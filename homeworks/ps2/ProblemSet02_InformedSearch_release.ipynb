{
 "cells": [
  {
   "cell_type": "markdown",
   "metadata": {},
   "source": [
    "**This problem set is due Wednesday, September 24, 2025 at 11:59 pm. Please plan ahead and submit your work on time.**"
   ]
  },
  {
   "cell_type": "markdown",
   "metadata": {},
   "source": [
    "## Problem Set 02: Informed Search and Complexity of Uninformed Search\n",
    "\n",
    "In this problem set you will implement informed search algorithms.\n",
    "\n",
    "0. [Credit for Contributors (required)](#contributors)\n",
    "\n",
    "1. [Informed Search on a Weighted Graph (40 pts)](#search_weighted_graph)\n",
    "    1. [Create the Romania graph (2 points)](#romania_graph)\n",
    "    2. [Complete the `GraphSearchProblem` class (3 points)](#graph_search_problem)\n",
    "    3. [Best-First Search](#bfs)\n",
    "    4. [Uniform Cost Search (10 points)](#ucs)\n",
    "    5. [Define the `eucl_distance` function (3 points)](#eucl_distance)\n",
    "    6. [Define the `eucl_distance` heuristic (2 points)](#eucl_heuristic)\n",
    "    7. [Greedy Best-First Search (10 points)](#greedy_search)\n",
    "    8. [A\\* Search (10 points)](#astar)\n",
    "    <br>\n",
    "    <br>\n",
    "              \n",
    "2. [Path Planning on a Grid (30 pts)](#grid_search)\n",
    "    1. [Complete the code for `grid_to_graph` (15 points)](#grid_to_graph)\n",
    "    2. [Complete the code for `eucl_dist_cell` below. (5 points)](#eucl_dist_cell)\n",
    "    3. [A\\* on a grid (5 points)](#Astar_grid)\n",
    "    4. [Greedy best-first search compared to A\\* (5 points)](#greedy_worse_paths)\n",
    "    <br>\n",
    "    <br>\n",
    "\n",
    "3. [Path Planning with the RRT (30 pts + 20 bonus)](#problem3)\n",
    "    1. [Collision Testing (2 points)](#collision_testing)\n",
    "    2. [Nearest Neighbors (3 points)](#nearest_neigbour)\n",
    "    3. [Extending the Tree (5 points)](#extending_graph)\n",
    "    4. [RRT Algorithm](#rrt)\n",
    "    5. [Test your code on simple environment (10 points)](#simple_env_code)\n",
    "    6. [Test your code on given environments (10 points)](#bugtrap_env_code)\n",
    "    7. [Test your code on harder and random environments (Bonus +20 points)](#hard_env_code)\n",
    "    <br>\n",
    "    <br>\n",
    "\n",
    "4. [How long did the pset take? (Bonus +5 points)](#pset)\n",
    "\n",
    "     \n",
    "**100 points + 25 bonus** total for Problem Set 2\n"
   ]
  },
  {
   "cell_type": "markdown",
   "metadata": {},
   "source": [
    "Import the modules and classes needed for this problem set."
   ]
  },
  {
   "cell_type": "code",
   "execution_count": null,
   "metadata": {},
   "outputs": [],
   "source": [
    "%load_ext autoreload\n",
    "%autoreload 2\n",
    "%matplotlib inline\n",
    "\n",
    "# Modules\n",
    "from __future__ import division\n",
    "import math\n",
    "import numpy as np\n",
    "import matplotlib.pyplot as plt\n",
    "import yaml\n",
    "\n",
    "from principles_of_autonomy.grader import Grader\n",
    "from principles_of_autonomy.notebook_tests.pset_2 import TestPSet2\n",
    "\n",
    "# Classes\n",
    "from grid import Grid\n",
    "from graph import Graph, Edge\n",
    "from search_classes import SearchNode, Path\n",
    "from utils import *\n",
    "import functools\n",
    "from matplotlib import pyplot as plt\n",
    "from shapely.geometry import Point, Polygon, LineString, box\n",
    "from environment import Environment, plot_environment, plot_line, plot_poly"
   ]
  },
  {
   "cell_type": "markdown",
   "metadata": {},
   "source": [
    "## <a name=\"contributors\"></a> 0. Credit for Contributors\n",
    "\n",
    "List the various students, lecture notes, or online resouces that helped you complete this problem set:\n",
    "\n",
    "Ex: I worked with Bob on the cat activity planning problem.\n",
    "\n",
    "<div class=\"alert alert-info\">\n",
    "Write your answer in the cell below this one.\n",
    "</div>"
   ]
  },
  {
   "cell_type": "markdown",
   "metadata": {},
   "source": [
    "--> *(double click on this cell to delete this text and type your answer here)*"
   ]
  },
  {
   "cell_type": "markdown",
   "metadata": {},
   "source": [
    "## <a name=\"search_weighted_graph\"></a> 1. Informed Search on a Weighted Graph\n",
    "\n",
    "In this section you will code informed search algorithms that operate on a weighted graph.\n",
    "We have provided code for creating a weighted graph (class `Graph` in `graph.py` -- you may want to look at the code).\n",
    "\n",
    "The following example shows how to use the Graph class. (You may see a red warning box the first time after executing the following code, don't worry)"
   ]
  },
  {
   "cell_type": "code",
   "execution_count": null,
   "metadata": {},
   "outputs": [],
   "source": [
    "# Create graph\n",
    "example_graph = Graph()\n",
    "\n",
    "# Add graph edges\n",
    "example_graph.add_edge(\"A\", \"B\", weight=5.0)\n",
    "example_graph.add_edge(\"B\", \"C\", weight=5.0)\n",
    "example_graph.add_edge(\"B\", \"D\", weight=5.0)\n",
    "example_graph.add_edge(\"B\", \"E\", weight=5.0)\n",
    "example_graph.add_edge(\"E\", \"F\", weight=5.0)\n",
    "example_graph.add_edge(\"B\", \"F\", weight=16.0)\n",
    "\n",
    "# Node locations (for visual representation)\n",
    "example_node_locations = dict(A= (0,3), B= (4,0),\n",
    "                              C= (0, -3), D= (8, -3),\n",
    "                              E= (8, 3), F= (12, 0))\n",
    "# Set the visual x,y position of the nodes\n",
    "example_graph.set_node_positions(example_node_locations)\n",
    "\n",
    "# Draw the graph\n",
    "example_graph.draw()"
   ]
  },
  {
   "cell_type": "markdown",
   "metadata": {},
   "source": [
    "### <a name=\"romania_graph\"></a>1A. Create the Romania graph (2 points)"
   ]
  },
  {
   "cell_type": "markdown",
   "metadata": {},
   "source": [
    "You will now be creating the graph of the Romania cities that is discussed in the AIMA book.\n",
    "We give you the connections between the cities (`romania_connections`) and the x,y position of each citiy (`romania_locations`).\n",
    "\n",
    "You graph should look like the following:\n",
    "\n",
    "<img src=romania.png>\n",
    "\n",
    "<div class=\"alert alert-info\">\n",
    "Create the graph in the variable `romania_graph`\n",
    "</div>"
   ]
  },
  {
   "cell_type": "code",
   "execution_count": null,
   "metadata": {
    "nbgrader": {
     "grade": false,
     "grade_id": "romania_graph_data",
     "locked": true,
     "schema_version": 3,
     "solution": false
    }
   },
   "outputs": [],
   "source": [
    "# (don't modify this cell -- it will be overwritten by our test grading code)\n",
    "# Distances between Romania's cities\n",
    "# Example: The distance between C and R (or R and C) is romania_connections['C']['R'] = 146\n",
    "romania_connections = dict(\n",
    "    A=dict(Z=75, S=140, T=118),\n",
    "    B=dict(U=85, P=101, G=90, F=211),\n",
    "    C=dict(D=120, R=146, P=138),\n",
    "    D=dict(M=75),\n",
    "    E=dict(H=86),\n",
    "    F=dict(S=99),\n",
    "    H=dict(U=98),\n",
    "    I=dict(V=92, N=87),\n",
    "    L=dict(T=111, M=70),\n",
    "    O=dict(Z=71, S=151),\n",
    "    P=dict(R=97),\n",
    "    R=dict(S=80),\n",
    "    U=dict(V=142))\n",
    "\n",
    "# x,y positions of Romania's cities\n",
    "romania_locations = dict(\n",
    "    A=( 91, 492),    B=(400, 327),    C=(253, 288),   D=(165, 299),\n",
    "    E=(562, 293),    F=(305, 449),    G=(375, 270),   H=(534, 350),\n",
    "    I=(473, 506),    L=(165, 379),    M=(168, 339),   N=(406, 537),\n",
    "    O=(131, 571),    P=(320, 368),    R=(233, 410),   S=(207, 457),\n",
    "    T=( 94, 410),    U=(456, 350),    V=(509, 444),   Z=(108, 531))"
   ]
  },
  {
   "cell_type": "code",
   "execution_count": null,
   "metadata": {
    "nbgrader": {
     "grade": false,
     "grade_id": "romania_graph_answer",
     "locked": false,
     "schema_version": 3,
     "solution": true
    }
   },
   "outputs": [],
   "source": [
    "# Write the code to generate the romania_graph in this cell\n",
    "# Save the graph in the romania_graph variable\n",
    "\n",
    "romania_graph = Graph()\n",
    "## Complete the code to generate the graph below...\n",
    "raise NotImplementedError()\n",
    "\n",
    "# Let's draw the graph you have generated now.\n",
    "romania_graph.draw()"
   ]
  },
  {
   "cell_type": "code",
   "execution_count": null,
   "metadata": {
    "nbgrader": {
     "grade": true,
     "grade_id": "romania_graph_test",
     "locked": true,
     "points": 5,
     "schema_version": 3,
     "solution": false
    }
   },
   "outputs": [],
   "source": [
    "\"\"\"Check that the romania graph is correct\"\"\"\n",
    "Grader.run_single_test_inline(TestPSet2, \"test_01_romania_graph\", locals())"
   ]
  },
  {
   "cell_type": "markdown",
   "metadata": {},
   "source": [
    "### <a name=\"graph_search_problem\"></a>1B. Complete the `GraphSearchProblem` class (3 points)\n",
    "\n",
    "In order to implement any of our search algorithms, we will need to define the `GraphSearchProblem` class that we'll use in the rest of this problem set.\n",
    "\n",
    "Complete the function `expand_node(search_node)`.\n",
    "This function should return a list of SearchNodes expanded from a graph SearchNode such that:\n",
    "\n",
    "- The parent of the new search nodes is `search_node`\n",
    "- The state of the new search nodes is the corresponding state according to the graph\n",
    "- The cost of the new search nodes is the accumulated cost so far until `search_node` plus the cost from the state of the `search_node` to the new search node.\n",
    "\n",
    "**Example:**\n",
    " One of the returned SearchNodes of `SearchNode(\"R\", cost=12)` would be `SearchNode(\"S\",parent_node=<node instance with state=\"R\">,cost=12 + 80)`\n",
    " \n",
    "<div class=\"alert alert-warning\">\n",
    " **NOTE:** You may want to look at the definition of `SearchNode` in `search_classes.py`. Note that the `SearchNode` definition that we use in this ProblemSet is a little more complicated than the one used in ProblemSet01.\n",
    "</div> \n",
    "\n",
    "<div class=\"alert alert-warning\"> \n",
    " You will also want to look at the `graph.py` file. In particular, note that the function `Graph.node_edges(node)` will give you all the outgoing Edges of a node in the graph. Also, each Edge has properties such as: source (the starting node), target (the end node) and weight (cost) of the edge.\n",
    "</div>\n",
    "\n",
    "<div class=\"alert alert-info\">\n",
    "Fill the code below.\n",
    "</div>"
   ]
  },
  {
   "cell_type": "code",
   "execution_count": null,
   "metadata": {
    "nbgrader": {
     "grade": false,
     "grade_id": "search_problem_expand_answer",
     "locked": false,
     "schema_version": 3,
     "solution": true
    }
   },
   "outputs": [],
   "source": [
    "# Complete the definition of expand_node below\n",
    "class GraphSearchProblem(object):\n",
    "    def __init__(self, graph, start, goal):\n",
    "        self.graph = graph\n",
    "        self.start = start\n",
    "        self.goal = goal\n",
    "    def test_goal(self, state):\n",
    "        return self.goal == state\n",
    "    def expand_node(self, search_node):\n",
    "        \"\"\"Return a list of SearchNodes, having the correct state, parent and updated cost.\"\"\"\n",
    "        raise NotImplementedError()\n",
    "        return expanded_sn"
   ]
  },
  {
   "cell_type": "code",
   "execution_count": null,
   "metadata": {
    "nbgrader": {
     "grade": true,
     "grade_id": "search_problem_expand_test",
     "locked": true,
     "points": 5,
     "schema_version": 3,
     "solution": false
    }
   },
   "outputs": [],
   "source": [
    "\"\"\"Check that GraphSearchProblem is implemented correctly\"\"\"\n",
    "Grader.run_single_test_inline(TestPSet2, \"test_02_graph_search_problem\", locals())"
   ]
  },
  {
   "cell_type": "markdown",
   "metadata": {},
   "source": [
    "### <a name=\"bfs\"></a>1C. Best-First Search\n",
    "\n",
    "Next you will implement a search algorithm that we're going to call a Best-First Search algorithm with an expanded list. This is not exactly the same as the Greedy Best-First Search algorithm we saw in class. We're going to walk you through how to use the same Best-First Search algorithm for all the informed search strategies. \n",
    "\n",
    "Complete the code for `best_first_search(problem, f)` that takes a problem (such as `GraphSearchProblem` and a function `f(SearchNode)` and that returns a tuple of the following (in this order):\n",
    "\n",
    "1. The best path from `problem.start` to `problem.goal` (according to the minimum `f`). Return the path as a `Path` class (see `search_classes.py`). (Note: This is very simple. You only need to return `Path(goal_node)` if `problem.test_goal(goal_node.state) == True`)\n",
    "2. The number of expanded nodes (the size of the expanded list).\n",
    "3. The maximum size that the queue reaches.\n",
    "\n",
    "Note: consider that the signature of `f` is `f(SearchNode) -> value`. That is, `f` takes a SearchNode and returns a number.\n",
    "\n",
    "**Hints regarding the PriorityQueue and the SearchNode classes:**\n",
    "\n",
    "- Notice that when we create the PriorityQueue, we give it a parameter `f=f`. The PriorityQueue internally uses `f` to refer to whatever function is being used to prioritize the values. That parameter name is a little bit unfortunate, given that we will have an `h` function for Greedy Best-first search, a `g` function for Uniform Cost Search and an `f=g+h` function for A*. But that's why the initialisation of the PriorityQueue for Greedy Best-First search has an argument `f=f`. \n",
    "- The PriorityQueue will order the elements by the **min** value of `f` of each element.\n",
    "- Whenever you do `q.pop()`, you get the element with the lowest f. Also, that element is removed from the queue at the same time.\n",
    "- You can test whether something was already in the queue with the statement: `element in q`. Where `element` is whatever you want to test if it was in the queue.\n",
    "- To test whether `element` is in the queue, the PriorityQueue iterates through all its elements and returns `True` if there is one element (`elementInQ`) for which `element == elementInQ` returns `True`.\n",
    "- The `SearchNode` class that we are giving you is defined so that `search_node1 == search_node2` returns `True` if both `search_node1` and `search_node2` have the same state, **even if both have different parents, or different costs!**\n",
    "- Because of this, you can use `search_node in q` to test if `q` contains a **different search node** (with possible different parent or cost) that has the same state than `search_node`.\n",
    "- If that is the case, you can retrieve that previous search node that was in q, `previous_search_node`, with the same state as `search_node` by doing:\n",
    "\n",
    "```python\n",
    "previous_search_node = q[search_node]\n",
    "```\n",
    "\n",
    "- You could now compare any aspects of `previous_search_node` and `search_node` (you know they both have the same state, but the other properties could be different)\n",
    "- Finally, you can delete that previous search node that was in the queue, and replace it by the search node. The position in the queue will be determined automatically by the PriorityQueue's `f` function, which we have set to be `h`. \n",
    "\n",
    "```python\n",
    "# BEFORE: previous_search_node is in q and has state s\n",
    "del q[previous_search_node]\n",
    "q.append(search_node)\n",
    "# AFTER: previous_search_node is no longer in q\n",
    "# search_node is now in q and has state s\n",
    "# the actual position of search_node in the q, will\n",
    "# most likely be different from whatever that of previous_search_node was\n",
    "```\n",
    "\n",
    "- You will probably have to do this at some point. (If there's already a path to some state A, and you find a better path to state A, you want to delete that worse path from the Q and add the better path).\n",
    "\n",
    "\n",
    "<div class=\"alert alert-info\">\n",
    "Complete the code for `best_first_search` below.\n",
    "</div>"
   ]
  },
  {
   "cell_type": "code",
   "execution_count": null,
   "metadata": {
    "nbgrader": {
     "grade": false,
     "grade_id": "bfs_code",
     "locked": false,
     "schema_version": 3,
     "solution": true,
     "task": false
    },
    "tags": []
   },
   "outputs": [],
   "source": [
    "# We provide stub code for the best_first_search function that you must fill.\n",
    "# The pseudo-code of the Search algorithm in the lecture slides may be useful here. \n",
    "def best_first_search(problem, f):\n",
    "    \"\"\"Returns a solution path.\"\"\"\n",
    "    q = PriorityQueue(f=f)\n",
    "    q.append(SearchNode(problem.start))\n",
    "    expanded = set([problem.start])\n",
    "    max_q = 1\n",
    "    path = list()\n",
    "    while q:\n",
    "        raise NotImplementedError()\n",
    "    # If we get to here, no solution has been found.\n",
    "    return None, len(expanded), max_q"
   ]
  },
  {
   "cell_type": "markdown",
   "metadata": {},
   "source": [
    "### <a name=\"ucs\"></a>1D. Uniform Cost Search (10 points)\n",
    "\n",
    "That function by itself doesn't decide which search strategy to use. Please implement the function `uniform_cost_search(problem)` that uses the `best_first_search` code you defined earlier together with some definition of a function `f(SearchNode) -> value` that you'll pass to `best_first_search`.\n",
    "Remember that Uniform Cost Search expand nodes in increasing order of cost. It will be useful to look at the definition of `SearchNode` (in `search_classes.py`), to see what information you can use.\n",
    "\n",
    "<div class=\"alert alert-info\">\n",
    "Complete the code for `uniform_cost_search` below.\n",
    "</div>"
   ]
  },
  {
   "cell_type": "code",
   "execution_count": null,
   "metadata": {
    "nbgrader": {
     "grade": false,
     "grade_id": "ucs_code",
     "locked": false,
     "schema_version": 3,
     "solution": true
    }
   },
   "outputs": [],
   "source": [
    "def uniform_cost_search(problem):\n",
    "    raise NotImplementedError()"
   ]
  },
  {
   "cell_type": "code",
   "execution_count": null,
   "metadata": {},
   "outputs": [],
   "source": [
    "\"\"\"Try your implementation of Uniform Cost Search with this code\"\"\"\n",
    "\n",
    "romania_problem = GraphSearchProblem(romania_graph, \"A\",\"G\")\n",
    "path, expanded, maxq = uniform_cost_search(romania_problem)\n",
    "print(\"UniformCostSearch Path:\\n %s. \\nNodes expanded: %d. Max size of the queue: %d\" %(path, expanded, maxq))\n",
    "\n",
    "# Draw solution\n",
    "if path:\n",
    "    romania_graph.draw(highlight_edges=list(path.edges()))"
   ]
  },
  {
   "cell_type": "code",
   "execution_count": null,
   "metadata": {
    "nbgrader": {
     "grade": true,
     "grade_id": "ucs_test",
     "locked": true,
     "points": 30,
     "schema_version": 3,
     "solution": false
    }
   },
   "outputs": [],
   "source": [
    "\"\"\"Test uniform cost search.\"\"\"\n",
    "Grader.run_single_test_inline(TestPSet2, \"test_03_uniform_cost_search\", locals())"
   ]
  },
  {
   "cell_type": "markdown",
   "metadata": {},
   "source": [
    "### Heuristics\n",
    "\n",
    "In order to implement greedy search and A*, we first need to define the heuristic we want to use. Remember that the heuristic is an estimate of the distance from a given state to the goal.\n",
    "\n",
    "We say that the heuristic is **admissible** if it is optimistic (it never over estimates the distance).\n",
    "\n",
    "### <a name=\"eucl_distance\"></a>1E. Euclidean distance (3 points)\n",
    "\n",
    "Given that we know the `(x,y)` position of the cities of Romania (`romania_locations`), we'll use the straight line distance between cities as our heuristic.\n",
    "\n",
    "Implement the `euclidean_distance(a,b)` function that returns the straight line distance between a and b. Consider that a and b are given as 2D tuples (e.g. `a=(0,0)`, `b=(3,4)`, then `euclidean_distance(a,b)=5`).\n",
    "\n",
    "$distance = \\sqrt{(a_x-b_x)^2 + (a_y - b_y)^2}$\n",
    "\n",
    "<div class=\"alert alert-info\">\n",
    "Complete the code for `eucl_distance` below.\n",
    "</div>\n"
   ]
  },
  {
   "cell_type": "code",
   "execution_count": null,
   "metadata": {
    "nbgrader": {
     "grade": false,
     "grade_id": "euclidean_dist_code",
     "locked": false,
     "schema_version": 3,
     "solution": true
    }
   },
   "outputs": [],
   "source": [
    "def eucl_dist(a, b):\n",
    "    \"\"\"Returns the euclidean distance between a and b.\"\"\"\n",
    "    raise NotImplementedError()"
   ]
  },
  {
   "cell_type": "code",
   "execution_count": null,
   "metadata": {
    "nbgrader": {
     "grade": true,
     "grade_id": "euclidean_dist_test",
     "locked": true,
     "points": 5,
     "schema_version": 3,
     "solution": false
    }
   },
   "outputs": [],
   "source": [
    "\"\"\"Test euclidean distance code.\"\"\"\n",
    "Grader.run_single_test_inline(TestPSet2, \"test_04_euclid_distance\", locals())"
   ]
  },
  {
   "cell_type": "markdown",
   "metadata": {},
   "source": [
    "### <a name=\"eucl_heuristic\"></a> 1F. Euclidean distance as a heuristic  (2 points)\n",
    "\n",
    "Now let's define a specific euclidean distance heuristic from any SearchNode to the \"G\" state.\n",
    "You will probably want to use the `romania_locations` dictionary.\n",
    "\n",
    "**Example:** `h_to_G(SearchNode(\"A\"))` should return about `360.4719`\n",
    "\n",
    "<a name=\"h_to_g\"></a>\n",
    "<div class=\"alert alert-info\">\n",
    "Complete the code for `h_to_G` below.\n",
    "</div>"
   ]
  },
  {
   "cell_type": "code",
   "execution_count": null,
   "metadata": {
    "nbgrader": {
     "grade": false,
     "grade_id": "heuristic_to_G_romania",
     "locked": false,
     "schema_version": 3,
     "solution": true
    }
   },
   "outputs": [],
   "source": [
    "goal_state = \"G\"\n",
    "def h_to_G(search_node):\n",
    "    raise NotImplementedError()"
   ]
  },
  {
   "cell_type": "code",
   "execution_count": null,
   "metadata": {
    "nbgrader": {
     "grade": true,
     "grade_id": "heuristic_to_G_rom_test",
     "locked": true,
     "points": 5,
     "schema_version": 3,
     "solution": false
    }
   },
   "outputs": [],
   "source": [
    "\"\"\"Test h_to_G.\"\"\"\n",
    "Grader.run_single_test_inline(TestPSet2, \"test_05_euclid_heuristic\", locals())"
   ]
  },
  {
   "cell_type": "markdown",
   "metadata": {},
   "source": [
    "### <a name=\"greedy_search\"></a>1G. Greedy Best-First Search (10 points)\n",
    "\n",
    "Now let us use this heuristic function to implement `greedy_search(problem,h)`. Assume that `h(SearchNode)` is a function that returns the heuristic of a search node with respect to some goal.\n",
    "\n",
    "Your solution should call your `best_first_search` function.\n",
    "\n",
    "<div class=\"alert alert-info\">\n",
    "Complete the code for `greedy_search` below.\n",
    "</div>"
   ]
  },
  {
   "cell_type": "code",
   "execution_count": null,
   "metadata": {
    "nbgrader": {
     "grade": true,
     "grade_id": "greedy_search_code",
     "locked": false,
     "points": 5,
     "schema_version": 3,
     "solution": true
    }
   },
   "outputs": [],
   "source": [
    "def greedy_search(problem, h):\n",
    "    raise NotImplementedError()"
   ]
  },
  {
   "cell_type": "code",
   "execution_count": null,
   "metadata": {},
   "outputs": [],
   "source": [
    "\"\"\"Try your greedy search implementation with this code\"\"\"\n",
    "start_state = \"A\"\n",
    "goal_state = \"G\"\n",
    "romania_problem = GraphSearchProblem(romania_graph, start_state,goal_state)\n",
    "path, expanded, maxq = greedy_search(romania_problem, h_to_G)\n",
    "print(\"Greedy Path:\\n %s. \\nNodes expanded: %d. Max size of the queue: %d\" %(path, expanded, maxq))\n",
    "\n",
    "# Draw solution\n",
    "if path:\n",
    "    romania_graph.draw(highlight_edges=list(path.edges()))"
   ]
  },
  {
   "cell_type": "code",
   "execution_count": null,
   "metadata": {},
   "outputs": [],
   "source": [
    "\"\"\"Test A* search.\"\"\"\n",
    "Grader.run_single_test_inline(TestPSet2, \"test_06_greedy\", locals())"
   ]
  },
  {
   "cell_type": "markdown",
   "metadata": {},
   "source": [
    "### <a name=\"astar\"></a>1H. A* Search (10 points)\n",
    "\n",
    "Now let us implement `astar_search(problem,h)`. Assume that `h(SearchNode)` is a function that returns the heuristic of a search node with respect to some goal.\n",
    "\n",
    "Again, you should be using your `best_first_search` function.\n",
    "\n",
    "Remember that for A*, $f(n) = cost(n) + h(n)$.\n",
    "\n",
    "<div class=\"alert alert-info\">\n",
    "Complete the code for `astar_search` below.\n",
    "</div>"
   ]
  },
  {
   "cell_type": "code",
   "execution_count": null,
   "metadata": {
    "nbgrader": {
     "grade": false,
     "grade_id": "astar_code",
     "locked": false,
     "schema_version": 3,
     "solution": true
    }
   },
   "outputs": [],
   "source": [
    "def astar_search(problem, h):\n",
    "    raise NotImplementedError()"
   ]
  },
  {
   "cell_type": "code",
   "execution_count": null,
   "metadata": {},
   "outputs": [],
   "source": [
    "\"\"\"Try your A* search implementation with this code\"\"\"\n",
    "start_state = \"A\"\n",
    "goal_state = \"G\"\n",
    "romania_problem = GraphSearchProblem(romania_graph, start_state,goal_state)\n",
    "path, expanded, maxq = astar_search(romania_problem, h_to_G)\n",
    "print(\"A* Path:\\n %s. \\nNodes expanded: %d. Max size of the queue: %d\" %(path, expanded, maxq))\n",
    "\n",
    "# Draw solution\n",
    "if path:\n",
    "    romania_graph.draw(highlight_edges=list(path.edges()))"
   ]
  },
  {
   "cell_type": "code",
   "execution_count": null,
   "metadata": {
    "nbgrader": {
     "grade": true,
     "grade_id": "astar_test",
     "locked": true,
     "points": 10,
     "schema_version": 3,
     "solution": false
    }
   },
   "outputs": [],
   "source": [
    "\"\"\"Test A* search.\"\"\"\n",
    "Grader.run_single_test_inline(TestPSet2, \"test_07_astar\", locals())"
   ]
  },
  {
   "cell_type": "code",
   "execution_count": null,
   "metadata": {},
   "outputs": [],
   "source": [
    "\"\"\"Compare the results of uniform cost search, greedy search and A*\"\"\"\n",
    "\n",
    "problem = GraphSearchProblem(romania_graph, \"A\", \"G\")\n",
    "\n",
    "sol, expanded, maxq = uniform_cost_search(problem)\n",
    "print(\"UCS Path:\\n %s. \\nNodes expanded: %d. Max size of the queue: %d\" %(sol, expanded, maxq))\n",
    "\n",
    "sol, expanded, maxq = greedy_search(problem, h_to_G)\n",
    "print(\"Greedy Path:\\n %s. \\nNodes expanded: %d. Max size of the queue: %d\" %(sol, expanded, maxq))\n",
    "\n",
    "sol, expanded, maxq = astar_search(problem, h_to_G)\n",
    "print(\"A* Path:\\n %s. \\nNodes expanded: %d. Max size of the queue: %d\" %(sol, expanded, maxq))\n"
   ]
  },
  {
   "cell_type": "markdown",
   "metadata": {},
   "source": [
    "## <a name=\"grid_search\"></a>2. Path Planning on a Grid\n",
    "\n",
    "In this section you'll learn how to apply the search tools for path planning on a grid.\n",
    "\n",
    "<img src=\"grid_path.png\"/>\n",
    "\n",
    "### Getting familiarized with the Grid class\n",
    "\n",
    "We have provided a `Grid` class.\n",
    "The following code shows how to use the Grid class. The `Grid` class is defined in `grid.py`.\n",
    "\n",
    "Note that the origin of the grid `(0,0)` corresponds to the lower left cell, and that `x` increases to the right, and `y` increases going up."
   ]
  },
  {
   "cell_type": "code",
   "execution_count": null,
   "metadata": {},
   "outputs": [],
   "source": [
    "# Create grid from text.\n",
    "# 1: obstacle, 0: free region\n",
    "# Modify the text to create your own grid\n",
    "# Ensure that the number of columns is constant!\n",
    "grid_str = \"\"\"0 1 1 1 1 1\n",
    "              0 1 0 0 0 0\n",
    "              0 1 0 1 1 0\n",
    "              0 1 0 0 1 0\n",
    "              0 1 1 1 1 0\n",
    "              0 0 0 0 0 0\"\"\"\n",
    "test_grid = Grid.create_from_str(grid_str)\n",
    "\n",
    "# Access the grid elements\n",
    "print(\"Num cols, num rows: \", test_grid.size)\n",
    "print(\"(2,1) is obstacle?\", test_grid.grid_array[2,1] > 0)\n",
    "print(\"(0,0) is obstacle?\", test_grid.grid_array[0,0] > 0)\n",
    "print(\"Cell dimensions: \", test_grid.cell_dimensions)\n",
    "\n",
    "# Drawing functions\n",
    "# Draw the grid\n",
    "axes = test_grid.draw()\n",
    "# Draw a circle in cell (5,2) [col 5, row 2]\n",
    "test_grid.draw_cell_circle(axes, (5,2),color='black')\n",
    "# You can draw some paths, too\n",
    "test_grid.draw_path(axes, [(0,0), (1,0), (2,0)], color='blue')\n",
    "test_grid.draw_path(axes, [(2,4), (2,3), (2,2), (3,2)], color='magenta')"
   ]
  },
  {
   "cell_type": "markdown",
   "metadata": {},
   "source": [
    "### <a name=\"grid_to_graph\"></a>2A. Creating a graph from a grid (15 points)\n",
    "\n",
    "You will code the function `grid_to_graph(grid, diagonal_moves)` that creates a `Graph` class like the one we have been using in the rest of the exercise from a `Grid`.\n",
    "\n",
    "Keep the following things in mind when coding this function:\n",
    "\n",
    "- The number of nodes in the graph needs to be equal to the number of obstacle free cells in the grid. (i.e. don't create nodes for cells that are blocked)\n",
    "- The nodes should be designed by a tuple of their (col, row) position, being the lower left cell the (0,0) node, and the upper right cell the (num_cols-1, num_rows-1) cell. That, is, to create nodes (2,3) and (2,4) and add an edge of length 5.0 between them, you should do: `graph.add_edge((2,3),(2,4), 5.0)`. If cell `(2,3)` is obstacle free, then `\"(2,3) in graph\"` should return `True`.\n",
    "- Use the right length for the edges. `grid.cell_dimensions` gives you the `(width, height)` of each cell. Keep in mind that diagonal moves are longer than straight moves.\n",
    "- Note that `graph.add_edge((2,3),(2,4), 5.0)` creates an edge from (2,3) to (2,4) but ALSO, from (2,4) to (2,3). It doesn't matter the order that you choose, and it's ok if you do it multiple times (the graph will only keep one edge).\n",
    "- A grid cell can connect to any other adjacent one if both cells are obstacle free.\n",
    "- Only connect cells diagonally if the argument `diagonal_moves = True`.\n",
    "\n",
    "\n",
    "<div class=\"alert alert-info\">\n",
    "Complete the code for `grid_to_graph` below.\n",
    "</div>"
   ]
  },
  {
   "cell_type": "code",
   "execution_count": null,
   "metadata": {
    "nbgrader": {
     "grade": false,
     "grade_id": "grid_to_graph_code",
     "locked": false,
     "schema_version": 3,
     "solution": true
    }
   },
   "outputs": [],
   "source": [
    "def grid_to_graph(grid, diagonal_moves=True):\n",
    "    graph = Graph()\n",
    "    raise NotImplementedError()\n",
    "    return graph\n",
    "    \n",
    "    "
   ]
  },
  {
   "cell_type": "code",
   "execution_count": null,
   "metadata": {
    "nbgrader": {
     "grade": true,
     "grade_id": "test_grid_to_graph",
     "locked": true,
     "points": 15,
     "schema_version": 3,
     "solution": false
    }
   },
   "outputs": [],
   "source": [
    "\"\"\"Test grid to graph function. Don't modify the grid test string or the tests will fail.\"\"\"\n",
    "Grader.run_single_test_inline(TestPSet2, \"test_08_grid_to_graph\", locals())"
   ]
  },
  {
   "cell_type": "markdown",
   "metadata": {},
   "source": [
    "### <a name=\"eucl_dist_cell\"></a>2B. Euclidian distance between grid cells (5 points)\n",
    "\n",
    "Let's start defining the function `eucl_dist_cell(graph_node, goal_cell, cell_dimensions)`.\n",
    "This function represents the euclidean distance between two cells (taking into account the width and the height of each cell).\n",
    "\n",
    "As an example, the result of `eucl_dist_cell(SearchNode((2,3)), (5,5), (1,2))` should be `5.0`. This represents the distance between cell `(2,3)` and cell `(5,5)` if the width of each cell is `1` and the height of each cell is `2`.\n",
    "\n",
    "<div class=\"alert alert-info\">\n",
    "Complete the code for `eucl_dist_cell` below.\n",
    "</div>\n"
   ]
  },
  {
   "cell_type": "code",
   "execution_count": null,
   "metadata": {
    "nbgrader": {
     "grade": false,
     "grade_id": "eucl_dist_cell_code",
     "locked": false,
     "schema_version": 3,
     "solution": true
    }
   },
   "outputs": [],
   "source": [
    "def eucl_dist_cell(graph_node, goal_cell, cell_dimensions):\n",
    "    distance = 0\n",
    "    raise NotImplementedError()\n",
    "    return distance"
   ]
  },
  {
   "cell_type": "code",
   "execution_count": null,
   "metadata": {
    "nbgrader": {
     "grade": true,
     "grade_id": "test_eucl_dist_cell",
     "locked": true,
     "points": 5,
     "schema_version": 3,
     "solution": false
    }
   },
   "outputs": [],
   "source": [
    "\"\"\"Test the eucl_dist_cell function\"\"\"\n",
    "Grader.run_single_test_inline(TestPSet2, \"test_09_eucl_dist_cell\", locals())"
   ]
  },
  {
   "cell_type": "markdown",
   "metadata": {},
   "source": [
    "### <a name=\"Astar_grid\"></a> 2C. A* on a grid (5 points)\n",
    "\n",
    "Now let's use the your definition of `eucl_dist_cell` to create the heuristic function and use A\\* to find a path in the grid.\n",
    "\n",
    "Run the code below. You should see how A\\* finds the path in the grid. Try changing the `diagonal_moves` option in the `grid_to_graph` function to see how that affect the paths that you get."
   ]
  },
  {
   "cell_type": "code",
   "execution_count": null,
   "metadata": {},
   "outputs": [],
   "source": [
    "\"\"\"Try your A* implementation with this code.\"\"\"\n",
    "\n",
    "start = (2,1)\n",
    "goal = (4,3)\n",
    "\n",
    "grid_str = \"\"\"0 0 0 0 0\n",
    "              0 1 1 1 0\n",
    "              0 1 1 1 1\n",
    "              0 1 0 1 0\n",
    "              0 0 0 0 0\"\"\"\n",
    "grid = Grid.create_from_str(grid_str)\n",
    "\n",
    "# Define the heuristic function that returns the heuristic distance from any search node to\n",
    "# the goal cell\n",
    "h = lambda n: eucl_dist_cell(n, goal, grid.cell_dimensions)\n",
    "\n",
    "graph = grid_to_graph(grid, diagonal_moves=True)\n",
    "\n",
    "# Now that our grid is a graph, we can create a GraphSearchProblem just as we did in \n",
    "# Part 1 \n",
    "\n",
    "problem = GraphSearchProblem(graph, start,goal)\n",
    "\n",
    "solution_astar, expanded, maxq = astar_search(problem, h)\n",
    "print(\"A* Path:\\n %s. \\nNodes expanded: %d. Max size of the queue: %d\" %(solution_astar, expanded, maxq))\n",
    "\n",
    "# Plot\n",
    "axes = grid.draw()\n",
    "grid.draw_path(axes,solution_astar.path, color='b')\n",
    "grid.draw_cell_circle(axes, start, color='g')\n",
    "grid.draw_cell_circle(axes, goal, color='b')"
   ]
  },
  {
   "cell_type": "markdown",
   "metadata": {},
   "source": [
    "Let's test that your A\\* implementation is correct."
   ]
  },
  {
   "cell_type": "code",
   "execution_count": null,
   "metadata": {
    "nbgrader": {
     "grade": true,
     "grade_id": "test_grid_astar",
     "locked": true,
     "points": 5,
     "schema_version": 3,
     "solution": false
    }
   },
   "outputs": [],
   "source": [
    "\"\"\"Test A* in a grid. Don't modify the grid test string or the tests will fail.\"\"\"\n",
    "Grader.run_single_test_inline(TestPSet2, \"test_10_astar_grid\", locals())"
   ]
  },
  {
   "cell_type": "markdown",
   "metadata": {},
   "source": [
    "### <a name=\"greedy_worse_paths\"></a>2D. Greedy best-first search compared to A\\* (5 points)\n",
    "\n",
    "Try running A\\* and Greedy Best-First Search in the graph below.\n",
    "\n",
    "<div class=\"alert alert-info\">\n",
    "Find start and goal locations for which the solution returned by Greedy Search is much worse than A*.\n",
    "</div>"
   ]
  },
  {
   "cell_type": "code",
   "execution_count": null,
   "metadata": {
    "nbgrader": {
     "grade": true,
     "grade_id": "worse_path_greedy",
     "locked": false,
     "points": 5,
     "schema_version": 3,
     "solution": true
    }
   },
   "outputs": [],
   "source": [
    "# Modify the start and goal locations\n",
    "# Example (not a good choice)\n",
    "# Uncomment to test\n",
    "# start, goal = (0,0), (14,2)\n",
    "raise NotImplementedError()"
   ]
  },
  {
   "cell_type": "code",
   "execution_count": null,
   "metadata": {},
   "outputs": [],
   "source": [
    "\"\"\"Try your chosen start and goal locations with this code.\"\"\"\n",
    "grid = Grid.create_from_file(\"hard_grid.txt\")\n",
    "h = lambda n: eucl_dist_cell(n, goal, grid.cell_dimensions)\n",
    "graph = grid_to_graph(grid, diagonal_moves=True)\n",
    "problem = GraphSearchProblem(graph, start,goal)\n",
    "solution_astar, expanded, maxq = astar_search(problem, h)\n",
    "solution_greedy, expanded, maxq = greedy_search(problem, h)\n",
    "\n",
    "# Draw\n",
    "axes = grid.draw()\n",
    "grid.draw_path(axes,solution_astar.path, color='b')\n",
    "grid.draw_path(axes,solution_greedy.path, color='m')\n",
    "grid.draw_cell_circle(axes, start, color='g')\n",
    "grid.draw_cell_circle(axes, goal, color='b')"
   ]
  },
  {
   "cell_type": "markdown",
   "metadata": {},
   "source": [
    "#### <a name=\"greedy_explanation\"></a>Explain why the path returned by Greedy search is worse\n",
    "\n",
    "<div class=\"alert alert-info\">\n",
    "Write your answer in the cell below this one.\n",
    "</div>"
   ]
  },
  {
   "cell_type": "markdown",
   "metadata": {
    "nbgrader": {
     "grade": true,
     "grade_id": "worse_greedy_explanation",
     "locked": false,
     "points": 5,
     "schema_version": 3,
     "solution": true
    }
   },
   "source": [
    "--> *(double click on this cell to delete this text and type your answer here)*"
   ]
  },
  {
   "cell_type": "markdown",
   "metadata": {},
   "source": [
    "## <a name=\"problem3\"></a> 3. RRT Path Planning\n",
    "\n",
    "We saw in class that in some cases, it is quite hard to convert a configuration space to a grid, and we had to construct the graph as part of the planning process. In this problem we will examine one algorithm for doing just that. We will ask you will implement the Rapidly-Exploring Random Tree (RRT) algorithm to help a robot navigate from its starting position to the desired end region in an environment full of obstacles. The three environments that we will use in this question are shown here. \n",
    "\n",
    "<img src='rrt_examples.png'/>"
   ]
  },
  {
   "cell_type": "markdown",
   "metadata": {},
   "source": [
    "Let us assume that we have a class `Node` that contains a possible state of our robot. We are going to assume a 2D disc robot, so our configuration space can be 2 dimensional as well."
   ]
  },
  {
   "cell_type": "code",
   "execution_count": null,
   "metadata": {},
   "outputs": [],
   "source": [
    "class Node:\n",
    "    def __init__(self, point: tuple, children=None, parent=None):\n",
    "        assert len(point) == 2  # input point should be 2d tuple (x, y)\n",
    "        assert isinstance(point, tuple)\n",
    "        self.xy = np.array(point)\n",
    "        self.parent = parent\n",
    "        self.children = children if children else []\n",
    "    \n",
    "    @property\n",
    "    def flat(self):\n",
    "        yield self\n",
    "        for c in self.children:\n",
    "            for n in c.flat:\n",
    "                yield n\n",
    "    @property\n",
    "    def point(self):\n",
    "        return Point(self.xy)\n",
    "    \n",
    "    @property\n",
    "    def ancestry(self):\n",
    "        yield self\n",
    "        if self.parent is not None:\n",
    "            for a in self.parent.ancestry:\n",
    "                yield a\n",
    "        \n",
    "    @property\n",
    "    def path(self):\n",
    "        path = list(self.ancestry)\n",
    "        for n in reversed(path):\n",
    "            yield tuple(n.xy)\n",
    "    \n",
    "    def __repr__(self):\n",
    "        return \"<Node xy: %s>\" % (self.xy)"
   ]
  },
  {
   "cell_type": "markdown",
   "metadata": {},
   "source": [
    "### <a name=\"collision_testing\"></a> 3A. Collision Testing (2 points) ###\n",
    "    \n",
    "The first important test in the RRT is to see if a sampled state is in collision with the obstacles in the environment. Please implement a `collision_free` method that takes a `tuple (x, y)`, the radius of the robot and an `Environment env` object that stores the obstacles, and returns if the robot at xy is in collision with any of the obstacles in `env`. You may wish to look at the `environment.py` class to see how to access the obstacles. We have given you the first line to construct a point with a given radius. "
   ]
  },
  {
   "cell_type": "code",
   "execution_count": null,
   "metadata": {},
   "outputs": [],
   "source": [
    "def collision_free(xy: tuple, radius: float, env: Environment):\n",
    "    p = Point(xy).buffer(radius, resolution=3)\n",
    "raise NotImplementedError()\n",
    "    return collision_test_result"
   ]
  },
  {
   "cell_type": "code",
   "execution_count": null,
   "metadata": {},
   "outputs": [],
   "source": [
    "Grader.run_single_test_inline(TestPSet2, \"test_11_collision_testing\", locals())"
   ]
  },
  {
   "cell_type": "markdown",
   "metadata": {},
   "source": [
    "### <a name=\"nearest_neigbour\"></a>3B. Nearest Neighbors (3 points) ### \n",
    "\n",
    "\n",
    "The next important step in the RRT is to find the nearest neighbour in the tree to a sampled point. Please implement a method `find_nearest_neighbor` that takes a `tuple (x,y)` and a list of nodes and returns the nearest neighbour from the list. "
   ]
  },
  {
   "cell_type": "code",
   "execution_count": null,
   "metadata": {},
   "outputs": [],
   "source": [
    "def find_nearest_neighbor(xy: tuple, nodes: list[Node]):\n",
    "    nn = None\n",
    "\n",
    "    raise NotImplementedError()\n",
    "\n",
    "    return nn"
   ]
  },
  {
   "cell_type": "code",
   "execution_count": null,
   "metadata": {},
   "outputs": [],
   "source": [
    "Grader.run_single_test_inline(TestPSet2, \"test_12_nearest_neighbor\", locals())"
   ]
  },
  {
   "cell_type": "markdown",
   "metadata": {},
   "source": [
    "### <a name=\"extending_graph\"></a>3C. Extending the Tree (5 points) ### \n",
    "\n",
    "Given a collision-free sample, and the nearest neighbour in the tree, we need to grow the tree towards the sample. \n",
    "\n",
    "Please implement a method `extend` that takes a `Node parent` that is already in the tree, a new sample `tuple (x, y)`, and a maximum distance `d`. The method should then consider the edge between `parent` and `xy`. If this edge is longer than `d`, `xy` should be scaled back to be at most `d` away from `parent`. If this edge is in collision, `extend` should return None. Otherwise `extend` should return the new node at `xy` (which may have been scaled). \n"
   ]
  },
  {
   "cell_type": "code",
   "execution_count": null,
   "metadata": {},
   "outputs": [],
   "source": [
    "def extend(parent, xy, radius, d, env):\n",
    "    new_node = None \n",
    "    \n",
    "    raise NotImplementedError()\n",
    "    \n",
    "    return new_node"
   ]
  },
  {
   "cell_type": "code",
   "execution_count": null,
   "metadata": {},
   "outputs": [],
   "source": [
    "Grader.run_single_test_inline(TestPSet2, \"test_13_extend\", locals())"
   ]
  },
  {
   "cell_type": "markdown",
   "metadata": {},
   "source": [
    "### 3D. The RRT algorithm ### \n",
    "\n",
    "Let us put all these pieces together, to implement the function `rrt` with the following signature:\n",
    "\n",
    "```python\n",
    "def rrt(bounds, environment, start_pose, radius, end_region)\n",
    "```\n",
    "\n",
    "where:\n",
    "- `bounds=(minx, miny, maxx, maxy)` is a tuple that indicates the bounds of the environment (the region the robot can traverse). Example `bounds=(-5, -4, 15, 5)`.\n",
    "- `environment` is an instance of the `Environment` class that describes the placement of the obstacles in the scene (see more examples below).\n",
    "- `start_pose = (x,y)` is a tuple indicating the starting position of the robot. Example: `start_pose=(-4, -2)`.\n",
    "- `radius` is the radius of the robot (used for collision checking). Example `radius=0.1`.\n",
    "- `end_region` is a `shapely` `Polygon` that describes the region that the robot needs to reach. See examples below.\n",
    "\n",
    "Your function should:\n",
    "\n",
    "- return a list of tuples `(x, y)` describing the obstacle free path that takes the robot to the target region. Example of a valid returned path: `[(-4, -2), (-3.71, -1.97), (-3.41, -1.8865), (-3.50, -2.69)]`. Note that your rrt function should produce paths such that the straight line connecting any pair of consecutive points should be obstacle free (considering the obstacles and the size of the robot). In the given example, it should be possible to go from `(-4, -2)` to `(-3.71, -1.97)` in a straight line without colliding with anything.\n",
    "- produce a plot showing the tree and the obstacle free path (such as the ones shown above)\n",
    "- show the number of nodes in the tree, the number of nodes in the solution path and the path length (you could put this in the plot title, as in the examples above)\n",
    "\n",
    "\n",
    "**You are required to submit this notebook with:**\n",
    "\n",
    "1. The code function `rrt` as described above\n",
    "2. The results (plots) of using your `rrt` function in the easy and bugtrap environments provided (see code stubs below).\n",
    "3. The results of using your `rrt` function in a challenging (600 obstacles) environment that is provided.\n",
    "\n",
    "See the provided example notebook [RRT Helpful Examples](RRT_Helpful_examples.ipynb) for examples on how to use the `Environment` class, the `shapely` library, and how to do some simple collision checking.\n",
    "\n",
    "\n",
    "<div class=\"alert alert-info\">\n",
    "**NOTE:** You don't need to write all your code in this notebook if you don't want to. You could create your own `.py` files and then import them into this notebook. We do require that we are able to run the two environments that we provide and the two that you generate in this notebook and that the plots are embedded here.\n",
    "</div>\n",
    "\n",
    "\n",
    "<div class=\"alert alert-warning\">\n",
    "Please ensure that you submit your notebook with the cells already executed. That is, you should save the notebook when your code has been executed and the plots are visible. That way, we will be able to look at your solution initially without running your code first.\n",
    "</div>\n",
    "\n"
   ]
  },
  {
   "cell_type": "code",
   "execution_count": null,
   "metadata": {},
   "outputs": [],
   "source": [
    "# Write your RRT code here (this cell and below)!\n",
    "# Note that you can write your code in separate .py files\n",
    "# and import them here later if you prefer\n",
    "\n",
    "import time\n",
    "from IPython.display import clear_output, display\n",
    "# %load_ext line_profiler\n",
    "\n",
    "def path_info(path):\n",
    "    nnodes = len(path)\n",
    "    length = sum(list(np.sum(map(lambda a:np.linalg.norm(np.array(a[0]) - np.array(a[1])) ,zip(path[:-1],path[1:])))))\n",
    "    return nnodes, length\n",
    "\n",
    "def sample_box(bounds):\n",
    "    minx, miny, maxx, maxy = bounds\n",
    "    r = np.random.uniform(low=0.0, high=1.0, size=2)\n",
    "    return (minx + (maxx-minx)*r[0], miny + (maxy-miny)*r[1])\n",
    "\n",
    "def rrt(bounds, environment, start_pose, radius, end_region):\n",
    "    start_t = time.time()\n",
    "    extend_length = 0.3\n",
    "    root = Node(start_pose)\n",
    "    \n",
    "    ax = plot_environment(environment, bounds=bounds)\n",
    "    minx, miny, maxx, maxy = bounds\n",
    "    box = Polygon([(minx,miny),(minx,maxy),(maxx,maxy),(maxx,miny)])\n",
    "    plot_poly(ax, box, 'white', alpha=1, zorder=-50)\n",
    "    plot_poly(ax, end_region, 'green', alpha=0.5, zorder=10)\n",
    "    plt.xlim([minx,maxx])\n",
    "    plt.ylim([miny,maxy])\n",
    "    \n",
    "    plot_poly(ax, Point(start_pose).buffer(radius,resolution=3), 'red', alpha=1, zorder=25)\n",
    "    \n",
    "    f = plt.gcf()\n",
    "    display(f)\n",
    "\n",
    "    raise NotImplementedError()"
   ]
  },
  {
   "cell_type": "markdown",
   "metadata": {},
   "source": [
    "### <a name=\"simple_env_code\"></a> 3E. Test your code on the simple environment (10 points) ##"
   ]
  },
  {
   "cell_type": "code",
   "execution_count": null,
   "metadata": {},
   "outputs": [],
   "source": [
    "# Test your code in the simple environment\n",
    "# don't modify this cell. It will be overwritten by the autograder.\n",
    "# if you want to test things, please create additional cells at the end\n",
    "environment_simple = Environment('simple.yaml')\n",
    "radius_simple = 0.3\n",
    "bounds_simple = (-2, -3, 12, 8)\n",
    "start_simple = (0, 0)\n",
    "goal_region_simple = Polygon([(10,5), (10,6), (11,6), (11,5)])\n",
    "path_simple = rrt(bounds_simple, environment_simple, start_simple, radius_simple, goal_region_simple)"
   ]
  },
  {
   "cell_type": "code",
   "execution_count": null,
   "metadata": {},
   "outputs": [],
   "source": [
    "# This function checks that the path is a list,\n",
    "# its elements are tuples and the start and end are correct\n",
    "# It doesn't check collisions.\n",
    "Grader.run_single_test_inline(TestPSet2, \"test_14_simple_environment\", locals())"
   ]
  },
  {
   "cell_type": "markdown",
   "metadata": {},
   "source": [
    "### <a name=\"bugtrap_env_code\"></a> 3F. Test your code on the bugtrap environment (10 points) ##"
   ]
  },
  {
   "cell_type": "code",
   "execution_count": null,
   "metadata": {},
   "outputs": [],
   "source": [
    "# Test your code in the bugtrap environment\n",
    "# don't modify this cell. It will be overwritten by the autograder.\n",
    "# if you want to test things, please create additional cells at the end\n",
    "environment_bugtrap = Environment('bugtrap.yaml')\n",
    "radius_bugtrap = 0.3\n",
    "bounds_bugtrap = (-2, -3, 12, 8)\n",
    "start_bugtrap = (2, 2.5)\n",
    "goal_region_bugtrap = Polygon([(10,5), (10,6), (11,6), (11,5)])\n",
    "path_bugtrap = rrt(bounds_bugtrap, environment_bugtrap, start_bugtrap, radius_bugtrap, goal_region_bugtrap)"
   ]
  },
  {
   "cell_type": "code",
   "execution_count": null,
   "metadata": {},
   "outputs": [],
   "source": [
    "# The check path function checks that the path is a list,\n",
    "# its elements are tuples and the start and end are correct\n",
    "# It doesn't check collisions.\n",
    "Grader.run_single_test_inline(TestPSet2, \"test_15_bugtrap_environment\", locals())"
   ]
  },
  {
   "cell_type": "markdown",
   "metadata": {},
   "source": [
    "### <a name=\"hard_env_code\"></a> 3G. Test your code on the harder environment that we have provided (Bonus 20 points)**"
   ]
  },
  {
   "cell_type": "code",
   "execution_count": null,
   "metadata": {},
   "outputs": [],
   "source": [
    "# Test your code in the challenging environment that you made\n",
    "environment_challenging = Environment('challenging600.yaml')\n",
    "start_challenging = (-4,-2)\n",
    "radius_challenging = 0.1\n",
    "goal_region_challenging = Polygon([(12,3), (12,4), (13,4),(13,3)])\n",
    "bounds_challenging = (-5, -4, 15, 5)\n",
    "path_challenging = rrt(bounds_challenging, environment_challenging, start_challenging, radius_challenging, goal_region_challenging)"
   ]
  },
  {
   "cell_type": "code",
   "execution_count": null,
   "metadata": {},
   "outputs": [],
   "source": [
    "Grader.run_single_test_inline(TestPSet2, \"test_16_complex_environment\", locals())"
   ]
  },
  {
   "cell_type": "markdown",
   "metadata": {},
   "source": [
    "### <a name=\"Time Spent\"></a> 4. Time Spent on Pset (5 points)\n",
    "\n",
    "Please use [this form](https://forms.gle/NZT3HPRpDLP3nTXB7) to tell us how long you spent on this pset. After you submit the form, the form will give you a confirmation word. Please enter that confirmation word below to get an extra 5 points. "
   ]
  },
  {
   "cell_type": "code",
   "execution_count": null,
   "metadata": {},
   "outputs": [],
   "source": [
    "form_confirmation_word = \"INSERT_FORM_CONFIRMATION_WORD_HERE\""
   ]
  },
  {
   "cell_type": "code",
   "execution_count": null,
   "metadata": {},
   "outputs": [],
   "source": [
    "# Run all tests. Note that the total number of autograding points is 120 (25 are bonus)\n",
    "Grader.grade_output([TestPSet2], [locals()], \"results.json\")\n",
    "Grader.print_test_results(\"results.json\")\n",
    "\n",
    "# NOTE: This is not the last cell! See below for more information about the TA script!"
   ]
  },
  {
   "cell_type": "code",
   "execution_count": null,
   "metadata": {},
   "outputs": [],
   "source": [
    "# The TAs have created a new utility function that will (1) automatically zip all required files and (2) extract your open-ended answers for\n",
    "# easier grading. Please try running it before submitting (and try submitting the resulting zip file to Gradescope). If you run into issues,\n",
    "# no worries - this will not affect your grade! This is only meant to make submission easier, and we would appreciate feedback or reports\n",
    "# of errors on this PSET's submission form. Thanks!\n",
    "\n",
    "# Make sure you save the notebook before running this cell so that the most updated version is zipped!\n",
    "Grader.prepare_submission(\"ProblemSet02_InformedSearch_release\")"
   ]
  }
 ],
 "metadata": {
  "@webio": {
   "lastCommId": null,
   "lastKernelId": null
  },
  "anaconda-cloud": {},
  "celltoolbar": "Create Assignment",
  "kernelspec": {
   "display_name": "Python 3 (ipykernel)",
   "language": "python",
   "name": "python3"
  },
  "language_info": {
   "codemirror_mode": {
    "name": "ipython",
    "version": 3
   },
   "file_extension": ".py",
   "mimetype": "text/x-python",
   "name": "python",
   "nbconvert_exporter": "python",
   "pygments_lexer": "ipython3",
   "version": "3.10.6"
  }
 },
 "nbformat": 4,
 "nbformat_minor": 4
}
