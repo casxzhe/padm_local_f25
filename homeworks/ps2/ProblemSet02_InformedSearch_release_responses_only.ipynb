{
 "cells": [
  {
   "cell_type": "markdown",
   "id": "ec73d364",
   "metadata": {},
   "source": [
    "## <a name=\"contributors\"></a> 0. Credit for Contributors\n",
    "\n",
    "List the various students, lecture notes, or online resouces that helped you complete this problem set:\n",
    "\n",
    "Ex: I worked with Bob on the cat activity planning problem.\n",
    "\n",
    "<div class=\"alert alert-info\">\n",
    "Write your answer in the cell below this one.\n",
    "</div>"
   ]
  },
  {
   "cell_type": "markdown",
   "id": "ffcce691",
   "metadata": {},
   "source": [
    "No other contributors"
   ]
  },
  {
   "cell_type": "markdown",
   "id": "4ed3402c",
   "metadata": {},
   "source": [
    "#### <a name=\"greedy_explanation\"></a>Explain why the path returned by Greedy search is worse\n",
    "\n",
    "<div class=\"alert alert-info\">\n",
    "Write your answer in the cell below this one.\n",
    "</div>"
   ]
  },
  {
   "cell_type": "markdown",
   "id": "0a7da650",
   "metadata": {
    "nbgrader": {
     "grade": true,
     "grade_id": "worse_greedy_explanation",
     "locked": false,
     "points": 5,
     "schema_version": 3,
     "solution": true
    }
   },
   "source": [
    "Greedy only explores the locally best options, while A* considers pasts costs. This means Greedy has a tendency to get stuck in searching a path that may seem optimal at the start but often is not the shortest path. Like described in lecture, this can turn into a \"poorly-guided DFS\"."
   ]
  }
 ],
 "metadata": {},
 "nbformat": 4,
 "nbformat_minor": 5
}
