{
 "cells": [
  {
   "cell_type": "markdown",
   "id": "ac43631f",
   "metadata": {},
   "source": [
    "## <a name=\"contributors\"></a> 0. Credit for Contributors\n",
    "\n",
    "List the various students, lecture notes, or online resouces that helped you complete this problem set:\n",
    "\n",
    "Ex: I worked with Bob on the cat activity planning problem.\n",
    "\n",
    "<div class=\"alert alert-info\">\n",
    "Write your answer in the cell below this one.\n",
    "</div>"
   ]
  },
  {
   "cell_type": "markdown",
   "id": "c319d597",
   "metadata": {},
   "source": [
    "No other contributors"
   ]
  },
  {
   "cell_type": "markdown",
   "id": "c476159b",
   "metadata": {},
   "source": [
    "**Now answer the following questions:**\n",
    "1. How do the curves differ across algorithms? Which one scales worst, and which scales best?  \n",
    "2. Why does forward checking give larger benefits on N-Queens than on Australia?  \n",
    "\n",
    "<div class=\"alert alert-info\">\n",
    "Write your answer in the cell below this one.\n",
    "</div>"
   ]
  },
  {
   "cell_type": "markdown",
   "id": "486ced58",
   "metadata": {},
   "source": [
    "1. Predicably, Naive DFS scales the worst (exponential) and DFS with forward checking scales the best (slightly better than backtracking) due to pruning.\n",
    "2. N-Queens is much more constrained locally compared to Australia, as placing a queen imm"
   ]
  }
 ],
 "metadata": {},
 "nbformat": 4,
 "nbformat_minor": 5
}
