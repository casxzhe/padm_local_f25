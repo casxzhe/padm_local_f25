{
 "cells": [
  {
   "cell_type": "markdown",
   "id": "03b83371",
   "metadata": {},
   "source": [
    "## <a name=\"contributors\"></a> 0. Credit for Contributors\n",
    "\n",
    "List the various students, lecture notes, or online resouces that helped you complete this problem set:\n",
    "\n",
    "Ex: I worked with Bob on the cat value iteration problem.\n",
    "\n",
    "<div class=\"alert alert-info\">\n",
    "Write your answer in the cell below this one.\n",
    "</div>"
   ]
  },
  {
   "cell_type": "markdown",
   "id": "fc281d2c",
   "metadata": {},
   "source": [
    "No other contributors"
   ]
  },
  {
   "cell_type": "markdown",
   "id": "2065da01",
   "metadata": {},
   "source": [
    "Does this policy look optimal? Does it look like the robot is doing something strange? Why? (hint: remember the transition model that we are using)\n",
    "\n",
    "<div class=\"alert alert-info\">\n",
    "Write your answer in the cell below this one.\n",
    "</div>"
   ]
  },
  {
   "cell_type": "markdown",
   "id": "90e31d28",
   "metadata": {
    "nbgrader": {
     "grade": true,
     "grade_id": "comment_mdp1",
     "locked": false,
     "points": 10,
     "schema_version": 3,
     "solution": true
    }
   },
   "source": [
    "It looks mostly optimal though the robot does seem to tend to stick to the walls and avoid the middle section with obstacles. This is expected risk-aware behavior under a stochastic transition model."
   ]
  }
 ],
 "metadata": {},
 "nbformat": 4,
 "nbformat_minor": 5
}
