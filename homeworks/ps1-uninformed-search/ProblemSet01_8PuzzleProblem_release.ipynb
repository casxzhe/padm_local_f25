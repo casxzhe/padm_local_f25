{
 "cells": [
  {
   "cell_type": "markdown",
   "metadata": {},
   "source": [
    "**This problem set is due Wednesday, September 17, 2025 at 11:59 pm. Please plan ahead and submit your work on time.**"
   ]
  },
  {
   "cell_type": "markdown",
   "metadata": {},
   "source": [
    "### Problem Set 01: Uninformed Search\n",
    "\n",
    "In this Problem Set you will implement Breath First Search and Depth First Search and use them to solve the [8 Puzzle Problem](https://en.wikipedia.org/wiki/15_puzzle).\n",
    "\n",
    "0. [Credit for Contributors (required)](#contributors)\n",
    "1. [State Representation in the 8 Puzzle Problem (35 points)](#state_representation)\n",
    "    1. [Successor Function (25 points)](#state_expansion)\n",
    "    2. [Completing the `PuzzleProblem` class (10 points)](#puzzle_problem_class)\n",
    "2. [Simple Search (65 points)](#simple_search)\n",
    "    1. [Breath First Search (35 points)](#bfs_implementation)\n",
    "    2. [Depth First Search (25 points)](#dfs_implementation)\n",
    "    3. [BFS vs DFS (5 points)](#bfs_vs_dfs)\n",
    "\n",
    "**100 points** total for Problem Set 1"
   ]
  },
  {
   "cell_type": "markdown",
   "metadata": {},
   "source": [
    "## <a name=\"contributors\"></a> Credit for Contributors\n",
    "\n",
    "List the various students, lecture notes, or online resouces that helped you complete this problem set:\n",
    "\n",
    "Ex: I worked with Bob on the cat activity planning problem.\n",
    "\n",
    "<div class=\"alert alert-info\">\n",
    "Write your answer in the cell below this one.\n",
    "</div>"
   ]
  },
  {
   "cell_type": "markdown",
   "metadata": {},
   "source": [
    "--> *No other contributors*"
   ]
  },
  {
   "cell_type": "markdown",
   "metadata": {},
   "source": [
    "Import the modules needed for this exercise (make sure you execute the cell below by clicking on it and pressing Shift-Enter)\n",
    "\n",
    "**Do not import any other modules**"
   ]
  },
  {
   "cell_type": "code",
   "execution_count": 1,
   "metadata": {},
   "outputs": [],
   "source": [
    "%load_ext autoreload\n",
    "%autoreload 2\n",
    "from search_classes import SearchNode, Path\n",
    "from principles_of_autonomy.grader import Grader\n",
    "from principles_of_autonomy.notebook_tests.pset_1 import TestPSet1"
   ]
  },
  {
   "cell_type": "markdown",
   "metadata": {},
   "source": [
    "## <a name=\"state_representation\"></a>Problem 1: State Representation in the 8 Puzzle Problem\n",
    "\n",
    "The puzzle consists of a 3x3 grid with 8 numbered tiles and a missing tile. The objective is to slide the tiles around until all the numbered tiles are ordered and the missing tile stays at the lower right cell of the grid.\n",
    "\n",
    "<img src=\"puzzle8.png\"/>\n",
    "\n",
    "To make things simple, we are giving you a possible state representation for the 8-puzzle problem.\n",
    "\n",
    "We'll represent a given state of the puzzle by a tuple of three internal tuples. Each internal tuple represents a row of the puzzle. The missing tile is represented by $0$.\n",
    "\n",
    "For example, the puzzle state below:\n",
    "\n",
    "<img src=\"example_state.png\"/>\n",
    "\n",
    "is represented by `((1, 2, 3), (8, 0, 4), (7, 6, 5))`.\n",
    "\n",
    "Below, we are giving you some code to print a puzzle state:\n"
   ]
  },
  {
   "cell_type": "code",
   "execution_count": 2,
   "metadata": {
    "nbgrader": {
     "grade": false,
     "grade_id": "print_state_code",
     "locked": true,
     "schema_version": 3,
     "solution": false
    }
   },
   "outputs": [
    {
     "name": "stdout",
     "output_type": "stream",
     "text": [
      "((1, 2, 3), (8, 0, 4), (7, 6, 5)) state represents puzzle state: \n",
      "+-----+\n",
      "|1 2 3|\n",
      "|8   4|\n",
      "|7 6 5|\n",
      "+-----+\n"
     ]
    }
   ],
   "source": [
    "def print_state(state):\n",
    "    print(\"+\"+ \"-\"*5+\"+\")\n",
    "    for l in state:\n",
    "        print(\"|\"+ \" \".join([str(el) if el!=0 else \" \" for el in l]) +\"|\")\n",
    "    print(\"+\"+ \"-\"*5+\"+\")\n",
    "\n",
    "example_state = ((1, 2, 3), (8, 0, 4), (7, 6, 5))\n",
    "\n",
    "print(\"%s state represents puzzle state: \" % (example_state,))\n",
    "print_state(example_state)"
   ]
  },
  {
   "cell_type": "markdown",
   "metadata": {},
   "source": [
    "### <a name=\"state_expansion\"></a>1.A Successor Function (25 points)\n",
    "\n",
    "In order to find a solution to the search problem, we need to define the states we can reach from a given state. This corresponds to the possible moves of the missing tile (at most up, down, left and right).\n",
    "\n",
    "Implement the function `expand_state(state)` that returns a `list` of the states that can be reached from the given `state`.\n",
    "\n",
    "For example, for state `((0, 1, 3), (4, 2, 5), (7, 8, 6))`, the function `expand_state` should return the following list (two moves are feasible):\n",
    "\n",
    "```\n",
    "[((4, 1, 3), (0, 2, 5), (7, 8, 6)), ((1, 0, 3), (4, 2, 5), (7, 8, 6))]\n",
    "```\n",
    "\n",
    "The neighbour states of state:\n",
    "\n",
    "```\n",
    "+-----+\n",
    "|  1 3|\n",
    "|4 2 5|\n",
    "|7 8 6|\n",
    "+-----+\n",
    "```\n",
    "\n",
    "are:\n",
    "\n",
    "```\n",
    "+-----+\n",
    "|4 1 3|\n",
    "|  2 5|\n",
    "|7 8 6|\n",
    "+-----+\n",
    "***\n",
    "+-----+\n",
    "|1   3|\n",
    "|4 2 5|\n",
    "|7 8 6|\n",
    "+-----+\n",
    "```\n",
    "\n",
    "<div class=\"alert alert-info\">\n",
    "Implement the function `expand_state(state)` below.\n",
    "</div>\n"
   ]
  },
  {
   "cell_type": "code",
   "execution_count": 3,
   "metadata": {
    "nbgrader": {
     "grade": false,
     "grade_id": "expand_state_code",
     "locked": false,
     "schema_version": 3,
     "solution": true
    }
   },
   "outputs": [],
   "source": [
    "def expand_state(state):\n",
    "    next_states = []\n",
    "\n",
    "    # Iterate thru tiles\n",
    "    for r, row in enumerate(state):\n",
    "        for c, col in enumerate(row):\n",
    "            tile = state[r][c]\n",
    "\n",
    "            if tile == 0:\n",
    "                \n",
    "                # Check adjacent tiles\n",
    "                for coord in [(c, r+1), (c, r-1), (c-1, r), (c+1, r)]:\n",
    "                    \n",
    "                    # Check that adjacent tiles are valid\n",
    "                    if coord[0] < 3 and coord[0] >= 0 and coord[1] < 3 and coord[1] >= 0:\n",
    "                        adjacent = state[coord[0]][coord[1]]\n",
    "                        new_state = [list(state[0]), list(state[1]), list(state[2])]\n",
    "                        \n",
    "                        # Swap\n",
    "                        new_state[coord[0]][coord[1]] = tile\n",
    "                        new_state[r][c] = adjacent\n",
    "    \n",
    "                        # Add to next_states\n",
    "                        next_states.append((tuple(new_state[0]), tuple(new_state[1]), tuple(new_state[2])))\n",
    "                        \n",
    "    return next_states"
   ]
  },
  {
   "cell_type": "code",
   "execution_count": 4,
   "metadata": {},
   "outputs": [
    {
     "name": "stderr",
     "output_type": "stream",
     "text": [
      ".\n",
      "----------------------------------------------------------------------\n",
      "Ran 1 test in 0.001s\n",
      "\n",
      "OK\n"
     ]
    }
   ],
   "source": [
    "Grader.run_single_test_inline(TestPSet1, \"test_1_check_expanded_states\", locals())"
   ]
  },
  {
   "cell_type": "markdown",
   "metadata": {},
   "source": [
    "### <a name=\"puzzle_problem_class\"></a> 1.B Completing the `PuzzleProblem` class (10 points)"
   ]
  },
  {
   "cell_type": "markdown",
   "metadata": {},
   "source": [
    "We are giving you the class `SearchNode` defined in `search_classes.py`. This class represents a search node in the search tree. You can create a `SearchNode` by giving it the state it represents and its `SearchNode` parent (or None if it's the root element in the tree). Below is an example of the `Search Node` class being used:"
   ]
  },
  {
   "cell_type": "code",
   "execution_count": 5,
   "metadata": {},
   "outputs": [
    {
     "name": "stdout",
     "output_type": "stream",
     "text": [
      "Root node: <SearchNode: state: ((0, 1, 3), (4, 2, 5), (7, 8, 6)), parent: None>\n",
      "Children node: <SearchNode: state: ((4, 1, 3), (0, 2, 5), (7, 8, 6)), parent: <SearchNode: state: ((0, 1, 3), (4, 2, 5), (7, 8, 6)), parent: None>>\n"
     ]
    }
   ],
   "source": [
    "# Execute this example code\n",
    "root_node = SearchNode(((0, 1, 3), (4, 2, 5), (7, 8, 6)), parent_node=None)\n",
    "children_node = SearchNode(((4, 1, 3), (0, 2, 5), (7, 8, 6)),\n",
    "                            parent_node=root_node)\n",
    "print(\"Root node: %s\" % root_node)\n",
    "print(\"Children node: %s\" % children_node)"
   ]
  },
  {
   "cell_type": "markdown",
   "metadata": {},
   "source": [
    "We also give you the `Path` class, that takes a `SearchNode` and computes the state path from the initial state in the root of the tree to the state of the given `SearchNode`:"
   ]
  },
  {
   "cell_type": "code",
   "execution_count": 6,
   "metadata": {},
   "outputs": [
    {
     "name": "stdout",
     "output_type": "stream",
     "text": [
      "Path of 2 states is: [((0, 1, 3), (4, 2, 5), (7, 8, 6)), ((4, 1, 3), (0, 2, 5), (7, 8, 6))]\n"
     ]
    }
   ],
   "source": [
    "# Execute this example code\n",
    "example_path = Path(children_node)\n",
    "print(\"Path of %d states is: %s\" % (len(example_path.path), example_path.path))"
   ]
  },
  {
   "cell_type": "markdown",
   "metadata": {},
   "source": [
    "Implement the function `expand_node(self, search_node)` inside the `PuzzleProblem` class. The function should return a `list` of the successor SearchNodes that can be reached from the given `search_node`.\n"
   ]
  },
  {
   "cell_type": "markdown",
   "metadata": {},
   "source": [
    "<div class=\"alert alert-warning\">\n",
    "You will want to look at the `SearchNode` and `Path` definitions in the included `search_classes.py` file, as you will need to know what useful properties you can use for the next questions.\n",
    "</div>\n",
    "\n",
    "<div class=\"alert alert-info\">\n",
    "Implement the function `expand_node(self, search_node)` below.\n",
    "</div>"
   ]
  },
  {
   "cell_type": "code",
   "execution_count": 7,
   "metadata": {},
   "outputs": [],
   "source": [
    "class PuzzleProblem(object):\n",
    "    \"\"\"Class that represents the puzzle search problem.\"\"\"\n",
    "    def __init__(self, start, goal):\n",
    "        self.start = start\n",
    "        self.goal = goal\n",
    "    def test_goal(self, state):\n",
    "        return self.goal == state\n",
    "    def expand_node(self, search_node):\n",
    "        \"\"\"Return a list of SearchNodes, having the correct state and parent node.\"\"\"\n",
    "        return [SearchNode(state=state, parent_node=search_node) for state in expand_state(search_node.state)]"
   ]
  },
  {
   "cell_type": "code",
   "execution_count": 8,
   "metadata": {},
   "outputs": [
    {
     "name": "stderr",
     "output_type": "stream",
     "text": [
      ".\n",
      "----------------------------------------------------------------------\n",
      "Ran 1 test in 0.001s\n",
      "\n",
      "OK\n"
     ]
    }
   ],
   "source": [
    "Grader.run_single_test_inline(TestPSet1, \"test_2_puzzle_problem_expanded_nodes\", locals())"
   ]
  },
  {
   "cell_type": "markdown",
   "metadata": {},
   "source": [
    "## <a name=\"simple_search\"></a>Problem 2: Simple Search"
   ]
  },
  {
   "cell_type": "markdown",
   "metadata": {},
   "source": [
    "Now you will implement Simple Search, as seen in class, to solve the 8 Puzzle Problem. "
   ]
  },
  {
   "cell_type": "markdown",
   "metadata": {},
   "source": [
    "### <a name=\"bfs_implementation\"></a>2.A Breadth First Search (35 points)\n",
    "\n",
    "First, you'll implement *Breath First Search*.\n",
    "\n",
    "Implement the function `breadth_first_search(search_problem)` that takes an instance of the `PuzzleProblem` class that we defined above and returns a tuple of three elements, in the following order:\n",
    "\n",
    "1. If BFS finds a solution, an instance of the `Path` class containing that solution. If it doesn't, it should return `None` as the first element of the tuple.\n",
    "2. The number of visited nodes\n",
    "3. The maximum size of the queue\n",
    "\n",
    "You should use a **visited list**, as otherwise the number of explored states in this problem will be large.\n",
    "\n",
    "<div class=\"alert alert-info\">\n",
    "Implement `breadth_first_search(search_problem)` below.\n",
    "</div>"
   ]
  },
  {
   "cell_type": "code",
   "execution_count": 9,
   "metadata": {
    "nbgrader": {
     "grade": true,
     "grade_id": "bfs_code",
     "locked": false,
     "points": 45,
     "schema_version": 3,
     "solution": true
    }
   },
   "outputs": [],
   "source": [
    "def breadth_first_search(search_problem):\n",
    "    \"\"\"This function should take a PuzzleProblem instance and return a 3 element tuple as described above.\"\"\"\n",
    "    n = 0 # nodes visited\n",
    "    Q = 0 # max size of queue\n",
    "\n",
    "    # Initialize search with starting path\n",
    "    queue = [SearchNode(search_problem.start, parent_node=None)]\n",
    "    visited = []\n",
    "\n",
    "    # Iterate thru queue\n",
    "    while queue: \n",
    "        n+=1\n",
    "        Q = max(Q, len(queue))\n",
    "        current_node = queue.pop(0) # FIFO\n",
    "        \n",
    "        if search_problem.test_goal(current_node.state): # Check goal conditions\n",
    "            return Path(current_node), n, Q # bruh\n",
    "        \n",
    "        else: # Update visited states\n",
    "            visited.append(current_node)\n",
    "            \n",
    "        # Expand states (check that they haven't been visited yet)\n",
    "        for next_node in search_problem.expand_node(current_node):\n",
    "            if next_node not in visited:\n",
    "                queue.append(next_node)"
   ]
  },
  {
   "cell_type": "markdown",
   "metadata": {},
   "source": [
    "### Solve the Puzzle Problem using BFS\n",
    "\n",
    "Let's use your Breath First Search implementation to solve the 8 Puzzle Problem.\n",
    "Execute the cell below. If your BFS implementation is correct, you should see the solution printed below."
   ]
  },
  {
   "cell_type": "code",
   "execution_count": 10,
   "metadata": {
    "nbgrader": {
     "grade": false,
     "grade_id": "puzzle8_bfs_sol_code",
     "locked": true,
     "schema_version": 3,
     "solution": false
    },
    "scrolled": true
   },
   "outputs": [
    {
     "name": "stdout",
     "output_type": "stream",
     "text": [
      "Solution found!\n",
      "5 states in the solution (4 moves)\n",
      "16 states explored.\n",
      "16 maximum queue\n",
      "Solution: \n",
      "+-----+\n",
      "|  1 3|\n",
      "|4 2 5|\n",
      "|7 8 6|\n",
      "+-----+\n",
      "\n",
      "**\n",
      "\n",
      "+-----+\n",
      "|1   3|\n",
      "|4 2 5|\n",
      "|7 8 6|\n",
      "+-----+\n",
      "\n",
      "**\n",
      "\n",
      "+-----+\n",
      "|1 2 3|\n",
      "|4   5|\n",
      "|7 8 6|\n",
      "+-----+\n",
      "\n",
      "**\n",
      "\n",
      "+-----+\n",
      "|1 2 3|\n",
      "|4 5  |\n",
      "|7 8 6|\n",
      "+-----+\n",
      "\n",
      "**\n",
      "\n",
      "+-----+\n",
      "|1 2 3|\n",
      "|4 5 6|\n",
      "|7 8  |\n",
      "+-----+\n",
      "\n",
      "**\n",
      "\n"
     ]
    }
   ],
   "source": [
    "# Solve the 8 Puzzle Problem from state:\n",
    "# +-----+\n",
    "# |  1 3|\n",
    "# |4 2 5|\n",
    "# |7 8 6|\n",
    "# +-----+\n",
    "# Don't modify this cell (contents will be overwritten by autograder)\n",
    "# If you want to experiment with other states, try adding cells below.\n",
    "# You can try with state: ((1, 8, 2), (0, 4, 3), (7, 6, 5)) for example.\n",
    "# Remember that not all states have a solution. Try ((8, 1, 2), (0, 4, 3), (7, 6, 5)), for example.\n",
    "# Be ready to wait, though!\n",
    "start_state = ((0, 1, 3), (4, 2, 5), (7, 8, 6))\n",
    "# start_state = ((1, 8, 2), (0, 4, 3), (7, 6, 5))\n",
    "goal_state = ((1,2,3),(4,5,6),(7,8,0))\n",
    "problem = PuzzleProblem(start_state, goal_state)\n",
    "\n",
    "sol, num_visited, max_q = breadth_first_search(problem)\n",
    "if sol:    \n",
    "    print(\n",
    "        \"Solution found!\\n%d states in the solution (%d moves)\\n\"\n",
    "        \"%d states explored.\\n%d maximum queue\"\n",
    "        % (len(sol.path), len(sol.path) - 1, num_visited, max_q)\n",
    "    )\n",
    "    print(\"Solution: \")\n",
    "    for s in sol.path:\n",
    "        print_state(s)\n",
    "        print(\"\\n**\\n\")\n",
    "else:\n",
    "    print(\"No solution after exploring %d states with max q of %d\" %(num_visited, max_q))"
   ]
  },
  {
   "cell_type": "code",
   "execution_count": 11,
   "metadata": {
    "scrolled": true
   },
   "outputs": [
    {
     "name": "stderr",
     "output_type": "stream",
     "text": [
      ".\n",
      "----------------------------------------------------------------------\n",
      "Ran 1 test in 0.001s\n",
      "\n",
      "OK\n"
     ]
    },
    {
     "name": "stdout",
     "output_type": "stream",
     "text": [
      "Solution: \n",
      "+-----+\n",
      "|  1 3|\n",
      "|4 2 5|\n",
      "|7 8 6|\n",
      "+-----+\n",
      "\n",
      "**\n",
      "\n",
      "+-----+\n",
      "|1   3|\n",
      "|4 2 5|\n",
      "|7 8 6|\n",
      "+-----+\n",
      "\n",
      "**\n",
      "\n",
      "+-----+\n",
      "|1 2 3|\n",
      "|4   5|\n",
      "|7 8 6|\n",
      "+-----+\n",
      "\n",
      "**\n",
      "\n",
      "+-----+\n",
      "|1 2 3|\n",
      "|4 5  |\n",
      "|7 8 6|\n",
      "+-----+\n",
      "\n",
      "**\n",
      "\n",
      "+-----+\n",
      "|1 2 3|\n",
      "|4 5 6|\n",
      "|7 8  |\n",
      "+-----+\n",
      "\n",
      "**\n",
      "\n"
     ]
    }
   ],
   "source": [
    "Grader.run_single_test_inline(TestPSet1, \"test_3_bfs\", locals())"
   ]
  },
  {
   "cell_type": "markdown",
   "metadata": {},
   "source": [
    "### <a name=\"dfs_implementation\"></a>2.B Depth First Search (25 points)\n",
    "\n",
    "Next, you'll implement *Depth First Search*.\n",
    "\n",
    "Implement the function `depth_first_search(search_problem)` that takes an instance of the `PuzzleProblem` class that we defined above and also returns a tuple of three elements, in the following order:\n",
    "\n",
    "1. If DFS finds a solution, an instance of the `Path` class containing that solution. If it doesn't, it should return `None` as the first element of the tuple.\n",
    "2. The number of visited nodes\n",
    "3. The maximum size of the queue\n",
    "\n",
    "You should use a **visited list**, as otherwise the number of explored states in this problem will be large.\n",
    "\n",
    "<div class=\"alert alert-info\">\n",
    "Implement `depth_first_search(search_problem)` below.\n",
    "</div>"
   ]
  },
  {
   "cell_type": "code",
   "execution_count": 64,
   "metadata": {},
   "outputs": [],
   "source": [
    "def depth_first_search(search_problem):\n",
    "    \"\"\"This function should take a PuzzleProblem instance and return a 3 element tuple as described above.\"\"\"\n",
    "    n = 0 # nodes visited\n",
    "    Q = 0 # max size of queue\n",
    "\n",
    "    # Initialize search with starting path\n",
    "    queue = [SearchNode(search_problem.start, parent_node=None)]\n",
    "    visited = []\n",
    "\n",
    "    # Iterate thru queue\n",
    "    while queue: \n",
    "        n+=1\n",
    "        Q = max(Q, len(queue))\n",
    "        current_node = queue.pop() # LIFO\n",
    "        \n",
    "        if search_problem.test_goal(current_node.state): # Check goal conditions\n",
    "            return Path(current_node), n, Q # bruh\n",
    "        \n",
    "        else: # Update visited states\n",
    "            visited.append(current_node)\n",
    "            \n",
    "        # Expand states (check that they haven't been visited yet)\n",
    "        for next_node in search_problem.expand_node(current_node):\n",
    "            if next_node not in visited:\n",
    "                \n",
    "                # backtrack condition: if you have first row solved, don't add any states that unsolve it\n",
    "                if (current_node.state[0] == search_problem.goal[0]) and (next_node.state[0] != search_problem.goal[0]):\n",
    "                    continue                    \n",
    "                else:\n",
    "                    queue.append(next_node)"
   ]
  },
  {
   "cell_type": "markdown",
   "metadata": {},
   "source": [
    "### Solve the Puzzle Problem using DFS\n",
    "\n",
    "Let's use your Depth First Search implementation to solve the 8 Puzzle Problem.\n",
    "Execute the cell below. If your DFS implementation is correct, you should find a very long solution."
   ]
  },
  {
   "cell_type": "code",
   "execution_count": 65,
   "metadata": {
    "scrolled": true
   },
   "outputs": [
    {
     "name": "stdout",
     "output_type": "stream",
     "text": [
      "Solution found!\n",
      "91 states in the solution (90 moves)\n",
      "91 states explored.\n",
      "72 maximum queue\n"
     ]
    }
   ],
   "source": [
    "# Solve the 8 Puzzle Problem from state:\n",
    "# +-----+\n",
    "# |  1 3|\n",
    "# |4 2 5|\n",
    "# |7 8 6|\n",
    "# +-----+\n",
    "# Don't modify this cell (contents will be overwritten by autograder)\n",
    "# If you want to experiment with other states, try adding cells below.\n",
    "# You can try with state: ((1, 8, 2), (0, 4, 3), (7, 6, 5)) for example.\n",
    "# Remember that not all states have a solution. Try ((8, 1, 2), (0, 4, 3), (7, 6, 5)), for example.\n",
    "# Be ready to wait, though!\n",
    "start_state = ((0, 1, 3), (4, 2, 5), (7, 8, 6))\n",
    "# start_state = ((1, 8, 2), (0, 4, 3), (7, 6, 5))\n",
    "goal_state = ((1,2,3),(4,5,6),(7,8,0))\n",
    "problem = PuzzleProblem(start_state, goal_state)\n",
    "\n",
    "sol, num_visited, max_q = depth_first_search(problem)\n",
    "if sol:\n",
    "    print(\"Solution found!\\n%d states in the solution (%d moves)\\n%d states explored.\\n%d maximum queue\"\n",
    "          % (len(sol.path), len(sol.path)-1, num_visited,max_q)\n",
    "          )\n",
    "else:\n",
    "    print(\"No solution after exploring %d states with max q of %d\" %(num_visited, max_q))"
   ]
  },
  {
   "cell_type": "code",
   "execution_count": 66,
   "metadata": {
    "scrolled": true
   },
   "outputs": [
    {
     "name": "stderr",
     "output_type": "stream",
     "text": [
      ".\n",
      "----------------------------------------------------------------------\n",
      "Ran 1 test in 0.004s\n",
      "\n",
      "OK\n"
     ]
    },
    {
     "name": "stdout",
     "output_type": "stream",
     "text": [
      "Solution: \n",
      "+-----+\n",
      "|1 2 3|\n",
      "|4 5 6|\n",
      "|7   8|\n",
      "+-----+\n",
      "\n",
      "**\n",
      "\n",
      "+-----+\n",
      "|1 2 3|\n",
      "|4 5 6|\n",
      "|7 8  |\n",
      "+-----+\n",
      "\n",
      "**\n",
      "\n"
     ]
    }
   ],
   "source": [
    "# Note: the test case uses an instructor implementation of expand_nodes\n",
    "Grader.run_single_test_inline(TestPSet1, \"test_4_dfs\", locals())"
   ]
  },
  {
   "cell_type": "markdown",
   "metadata": {},
   "source": [
    "### <a name=\"bfs_vs_dfs\"></a> 2.C BFS vs DFS (5 points)\n",
    "\n",
    "Would DFS be a better choice for this problem? What benefits does BFS have over DFS in this problem? Please explain in the cell below (double click on the cell below, remove the text and type your answer). This is a qualitative question, you are not required to give numerical comparisons."
   ]
  },
  {
   "cell_type": "markdown",
   "metadata": {},
   "source": [
    "**Write solution here!**\n",
    "\n",
    "BFS will always find the shortest path, and in this case is the better opiton. DFS mainly shines in applications where the path is expected to be long, as in these cases the BFS graph can get very wide, consuming  a lot of memory. \n",
    "\n",
    "However, this game, for the most part, will typically have a solution that is within a reasonable number of steps (the 8-puzzle only has 181440 states reachable from a legal starting position, which is a relatively small state space). Additionally, we probably care about the solution with the fewest number of moves, which makes BFS the ideal algorithm."
   ]
  },
  {
   "cell_type": "markdown",
   "metadata": {},
   "source": [
    "### <a name=\"Time Spent\"></a> 3. Time Spent on Pset (5 points)\n",
    "\n",
    "Please use [this form](https://forms.gle/LRVH2WwatrjakJGJA) to tell us how long you spent on this pset. After you submit the form, the form will give you a confirmation word. Please enter that confirmation word below to get an extra 5 points. "
   ]
  },
  {
   "cell_type": "code",
   "execution_count": 67,
   "metadata": {},
   "outputs": [],
   "source": [
    "form_confirmation_word = \"Apple pie\""
   ]
  },
  {
   "cell_type": "code",
   "execution_count": 68,
   "metadata": {},
   "outputs": [
    {
     "name": "stdout",
     "output_type": "stream",
     "text": [
      "Total score is 100/100.\n",
      "\n",
      "Score for test_1_check_expanded_states (principles_of_autonomy.notebook_tests.pset_1.TestPSet1) is 25/25.\n",
      "\n",
      "Score for test_2_puzzle_problem_expanded_nodes (principles_of_autonomy.notebook_tests.pset_1.TestPSet1) is 10/10.\n",
      "\n",
      "Score for test_3_bfs (principles_of_autonomy.notebook_tests.pset_1.TestPSet1) is 35/35.\n",
      "- Solution: \n",
      "+-----+\n",
      "|  1 3|\n",
      "|4 2 5|\n",
      "|7 8 6|\n",
      "+-----+\n",
      "\n",
      "**\n",
      "\n",
      "+-----+\n",
      "|1   3|\n",
      "|4 2 5|\n",
      "|7 8 6|\n",
      "+-----+\n",
      "\n",
      "**\n",
      "\n",
      "+-----+\n",
      "|1 2 3|\n",
      "|4   5|\n",
      "|7 8 6|\n",
      "+-----+\n",
      "\n",
      "**\n",
      "\n",
      "+-----+\n",
      "|1 2 3|\n",
      "|4 5  |\n",
      "|7 8 6|\n",
      "+-----+\n",
      "\n",
      "**\n",
      "\n",
      "+-----+\n",
      "|1 2 3|\n",
      "|4 5 6|\n",
      "|7 8  |\n",
      "+-----+\n",
      "\n",
      "**\n",
      "\n",
      "\n",
      "\n",
      "Score for test_4_dfs (principles_of_autonomy.notebook_tests.pset_1.TestPSet1) is 25/25.\n",
      "- Solution: \n",
      "+-----+\n",
      "|1 2 3|\n",
      "|4 5 6|\n",
      "|7   8|\n",
      "+-----+\n",
      "\n",
      "**\n",
      "\n",
      "+-----+\n",
      "|1 2 3|\n",
      "|4 5 6|\n",
      "|7 8  |\n",
      "+-----+\n",
      "\n",
      "**\n",
      "\n",
      "\n",
      "\n",
      "Score for test_5_form_word (principles_of_autonomy.notebook_tests.pset_1.TestPSet1) is 5/5.\n"
     ]
    }
   ],
   "source": [
    "# Run all tests\n",
    "Grader.grade_output([TestPSet1], [locals()], \"results.json\")\n",
    "Grader.print_test_results(\"results.json\")"
   ]
  },
  {
   "cell_type": "code",
   "execution_count": null,
   "metadata": {},
   "outputs": [],
   "source": []
  }
 ],
 "metadata": {
  "anaconda-cloud": {},
  "celltoolbar": "Create Assignment",
  "kernelspec": {
   "display_name": "Python 3 (ipykernel)",
   "language": "python",
   "name": "python3"
  },
  "language_info": {
   "codemirror_mode": {
    "name": "ipython",
    "version": 3
   },
   "file_extension": ".py",
   "mimetype": "text/x-python",
   "name": "python",
   "nbconvert_exporter": "python",
   "pygments_lexer": "ipython3",
   "version": "3.10.6"
  }
 },
 "nbformat": 4,
 "nbformat_minor": 4
}
