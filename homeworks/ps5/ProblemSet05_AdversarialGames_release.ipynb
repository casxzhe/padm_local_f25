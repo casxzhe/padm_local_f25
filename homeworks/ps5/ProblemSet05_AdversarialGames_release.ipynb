{
 "cells": [
  {
   "cell_type": "markdown",
   "metadata": {},
   "source": [
    "**This problem set is due Wednesday, October 15, 2025 at 11:59 pm. Please plan ahead and submit your work on time.**"
   ]
  },
  {
   "cell_type": "markdown",
   "metadata": {},
   "source": [
    "# Problem Set 05: Adversarial Games\n",
    "\n",
    "In this problem set, you will explore minimax, alpha-beta pruning, and expectimax.\n",
    "\n",
    "0. [Credit for Contributors (required)](#contributors)\n",
    "\n",
    "1. [Adversarial Games (100 points)](#problem2)\n",
    "    1. [MiniMax (50 points)](#part1)\n",
    "    2. [MiniMax with Alpha-Beta pruning (25 points)](#part2)\n",
    "    3. [Expectimax (25 points)](#part3)\n",
    "2. [Time Spent on Pset (5 points)](#part4)\n",
    "\n",
    "    \n",
    "**100 points + 5 bonus** total for Problem Set 5"
   ]
  },
  {
   "cell_type": "markdown",
   "metadata": {},
   "source": [
    "## Imports and Utilities"
   ]
  },
  {
   "cell_type": "code",
   "execution_count": 15,
   "metadata": {},
   "outputs": [
    {
     "name": "stdout",
     "output_type": "stream",
     "text": [
      "The autoreload extension is already loaded. To reload it, use:\n",
      "  %reload_ext autoreload\n"
     ]
    }
   ],
   "source": [
    "from __future__ import division\n",
    "import random\n",
    "from utils import *\n",
    "\n",
    "%load_ext autoreload\n",
    "%autoreload 2\n",
    "from principles_of_autonomy.grader import Grader\n",
    "from principles_of_autonomy.notebook_tests.pset_5 import TestPSet5\n",
    "\n",
    "class Error(Exception):\n",
    "    pass"
   ]
  },
  {
   "cell_type": "markdown",
   "metadata": {},
   "source": [
    "## <a name=\"contributors\"></a> 0. Credit for Contributors\n",
    "\n",
    "List the various students, lecture notes, or online resouces that helped you complete this problem set:\n",
    "\n",
    "Ex: I worked with Bob on the cat expectimax problem.\n",
    "\n",
    "<div class=\"alert alert-info\">\n",
    "Write your answer in the cell below this one.\n",
    "</div>"
   ]
  },
  {
   "cell_type": "markdown",
   "metadata": {},
   "source": [
    "No other contributors"
   ]
  },
  {
   "cell_type": "markdown",
   "metadata": {},
   "source": [
    "## <a name=\"problem2\"></a> 1. Adversarial Games: The Cut-Throat Game of Tic-Tac-Toe\n",
    "\n",
    "Though the game of tic-tac-toe is very simple, it serves as a good example for MiniMax search, alpha-beta pruning, and Expectimax search because it is fully solvable. In this problem set, you will implement MiniMax search with and without alpha-beta pruning, and compare performance. You will then simulate a full game to prove that an optimal strategy in tic-tac-toe can only guarantee a tie (against an optimal adversary). Then you will implement Expectimax search to play against a suboptimal adversary."
   ]
  },
  {
   "cell_type": "markdown",
   "metadata": {},
   "source": [
    "We have defined for you a `game_state` class, which works for general games, and a `tic_tac_toe_board` class, both defined in the file `utils.py`. You may want to look in this file now to see the specifics of these classes.\n",
    "\n",
    "A `tic_tac_toe_board` object is defined as follows:\n",
    "\n",
    "```\n",
    "tic_tac_toe_board(symbols)\n",
    "```\n",
    "\n",
    "The `symbols` argument is a list of 9 elements which may be one of `'x'`, `'o'`, or `' '`, corresponding to the symbols on the board supplied row by row.\n",
    "\n",
    "You will not work directly with a `tic_tac_toe_board`. Instead, a `game_state` object will track the board state of any two player game object supplied to it. It will also provide information on the current player, and the state of the game in the last move. An instance is defined as:\n",
    "\n",
    "```\n",
    "game_state(board,parent=None)\n",
    "```\n",
    "\n",
    "The `board` argument is any game board (e.g., a tic-tac-toe board), and the `parent` argument refers to the previous game state. If `None` is supplied as the parent, the game is assumed to have started from this state."
   ]
  },
  {
   "cell_type": "markdown",
   "metadata": {},
   "source": [
    "To show the current board, you may use `print(game_state)` as below."
   ]
  },
  {
   "cell_type": "code",
   "execution_count": 16,
   "metadata": {},
   "outputs": [
    {
     "name": "stdout",
     "output_type": "stream",
     "text": [
      "x | o | x\n",
      "--+---+--\n",
      "x | x | o\n",
      "--+---+--\n",
      "o |   |  \n",
      "\n"
     ]
    }
   ],
   "source": [
    "# Define a game state for tic-tac-toe\n",
    "example_state = game_state(tic_tac_toe_board(['x','o','x','x','x','o','o',' ',' ']))\n",
    "# View the state of the board\n",
    "print(example_state)"
   ]
  },
  {
   "cell_type": "markdown",
   "metadata": {},
   "source": [
    "By default, a `game_state` is initialized assuming player 1, who plays x's and attempts to maximize score, is playing first. Player 2 plays o's and attempts to minimize the score. \n",
    "\n",
    "We attribute a score of +1 to any game state where x (player 1) wins, -1 to any game state where o (player 2) wins, and 0 to any tied or incomplete game state. You may see the score using `game_state.score()`, and check whether a game is complete using `game_state.terminal_check()`."
   ]
  },
  {
   "cell_type": "code",
   "execution_count": 17,
   "metadata": {},
   "outputs": [
    {
     "name": "stdout",
     "output_type": "stream",
     "text": [
      "x | o | x\n",
      "--+---+--\n",
      "x | x | o\n",
      "--+---+--\n",
      "o |   |  \n",
      "\n",
      "Game complete? False\n",
      "Score of this game is 0: Game incomplete.\n",
      "\n",
      "x | o | x\n",
      "--+---+--\n",
      "x | x | o\n",
      "--+---+--\n",
      "o |   | x\n",
      "\n",
      "Game complete? True\n",
      "Score of this game is 1: x wins.\n",
      "\n",
      "x | o | x\n",
      "--+---+--\n",
      "x | x | o\n",
      "--+---+--\n",
      "o | o | o\n",
      "\n",
      "Game complete? True\n",
      "Score of this game is -1: o wins.\n",
      "\n",
      "x | o | x\n",
      "--+---+--\n",
      "x | x | o\n",
      "--+---+--\n",
      "o | x | o\n",
      "\n",
      "Game complete? True\n",
      "Score of this game is 0: Game tie.\n",
      "\n"
     ]
    }
   ],
   "source": [
    "# Run this cell to see some example games, who has won, and whether the game is complete.\n",
    "example_state = game_state(tic_tac_toe_board(['x','o','x','x','x','o','o',' ',' ']))\n",
    "print(example_state)\n",
    "print('Game complete? {}'.format(example_state.terminal_check()))\n",
    "print('Score of this game is {}: Game incomplete.\\n'.format(example_state.score()))\n",
    "\n",
    "example_state = game_state(tic_tac_toe_board(['x','o','x','x','x','o','o',' ','x']))\n",
    "print(example_state)\n",
    "print('Game complete? {}'.format(example_state.terminal_check()))\n",
    "print('Score of this game is {}: x wins.\\n'.format(example_state.score()))\n",
    "\n",
    "example_state = game_state(tic_tac_toe_board(['x','o','x','x','x','o','o','o','o']))\n",
    "print(example_state)\n",
    "print('Game complete? {}'.format(example_state.terminal_check()))\n",
    "print('Score of this game is {}: o wins.\\n'.format(example_state.score()))\n",
    "\n",
    "example_state = game_state(tic_tac_toe_board(['x','o','x','x','x','o','o','x','o']))\n",
    "print(example_state)\n",
    "print('Game complete? {}'.format(example_state.terminal_check()))\n",
    "print('Score of this game is {}: Game tie.\\n'.format(example_state.score()))"
   ]
  },
  {
   "cell_type": "markdown",
   "metadata": {},
   "source": [
    "The player who needs to play next in any given `game_state` is given through the command `game_state.player`. The function `game_state.successors()` creates a list of `game_state` objects that could be reachable within a move of the current player. The parent of the successors is automatically allocated."
   ]
  },
  {
   "cell_type": "code",
   "execution_count": 18,
   "metadata": {},
   "outputs": [
    {
     "name": "stdout",
     "output_type": "stream",
     "text": [
      "Example state:\n",
      "x | o | x\n",
      "--+---+--\n",
      "x |   | o\n",
      "--+---+--\n",
      "o |   |  \n",
      "\n",
      "Next player is 1 and the possible successor states are:\n",
      "\n",
      "x | o | x\n",
      "--+---+--\n",
      "x | x | o\n",
      "--+---+--\n",
      "o |   |  \n",
      "\n",
      "x | o | x\n",
      "--+---+--\n",
      "x |   | o\n",
      "--+---+--\n",
      "o | x |  \n",
      "\n",
      "x | o | x\n",
      "--+---+--\n",
      "x |   | o\n",
      "--+---+--\n",
      "o |   | x\n",
      "\n",
      "-----------------------------------------\n",
      "\n",
      "Example state:\n",
      "x | o | x\n",
      "--+---+--\n",
      "x | x | o\n",
      "--+---+--\n",
      "o |   |  \n",
      "\n",
      "Next player is 2 and the possible successor states are:\n",
      "\n",
      "x | o | x\n",
      "--+---+--\n",
      "x | x | o\n",
      "--+---+--\n",
      "o | o |  \n",
      "\n",
      "x | o | x\n",
      "--+---+--\n",
      "x | x | o\n",
      "--+---+--\n",
      "o |   | o\n",
      "\n"
     ]
    }
   ],
   "source": [
    "# Run this cell to see current players and successor states\n",
    "example_state = game_state(tic_tac_toe_board(['x','o','x','x',' ','o','o',' ',' ']))\n",
    "print('Example state:')\n",
    "print(example_state)\n",
    "print('Next player is {} and the possible successor states are:\\n'.format(example_state.player))\n",
    "successor_states = example_state.successors()\n",
    "for s in successor_states:\n",
    "    print(s)\n",
    "    \n",
    "print('-----------------------------------------\\n')\n",
    "example_state = successor_states[0]\n",
    "print('Example state:')\n",
    "print(example_state)\n",
    "print('Next player is {} and the possible successor states are:\\n'.format(example_state.player))\n",
    "successor_states = example_state.successors()\n",
    "for s in successor_states:\n",
    "    print(s)"
   ]
  },
  {
   "cell_type": "markdown",
   "metadata": {},
   "source": [
    "### 1A. <a name=\"part1\"/> </a>Implement MiniMax Search (50 points)\n",
    "\n",
    "We will use MiniMax to produce a game where both players are following their optimal strategy. You should be able to convince yourself that in this case, the outcome of the entire game can be defined at the start. \n",
    "\n",
    "You will define the following functions:\n",
    "\n",
    "```python\n",
    "def maximize_score(state: game_state) -> (max_score, states_explored, optimal_play)\n",
    "```\n",
    "```python\n",
    "def minimize_score(state: game_state) -> (min_score, states_explored, optimal_play)\n",
    "```\n",
    "\n",
    "Both functions take a `game_state` object as input. It is assumed that when `maximize_score` is run, the next player to play is player 1, while `minimize_score` is run when the next player is player 2.  \n",
    "\n",
    "The output of `maximize_score` will be a tuple `(max_score, states_explored, optimal_play)`, where: \n",
    "\n",
    "- `max_score` is the maximum score that can be achieved starting from the provided state if both players follow an optimum strategy. \n",
    "- `states_explored` is the total number of game states that have been considered to perform this computation (including the current state). If your search reaches the same state multiple times, count it multiple times.\n",
    "- `optimal_play` is a list of `game_state` objects following the optimal game `[state, state2, state3, ..., final_state]` from the current state (leftmost element of list) to its conclusion (rightmost element).\n",
    "\n",
    "Similarly, the output of `minimize_score` will be a tuple `(min_score, states_explored, optimal_play)`, where:\n",
    "\n",
    "- `min_score` is the minimum score that can be achieved starting from the provided state if both players follow an optimum strategy. \n",
    "- `states_explored` and `optimal_play` are defined as above.\n",
    "\n",
    "**In the case where multiple moves give a tie for the optimal play, the `optimal_play` list should follow the first successor in the list generated by `state.successors()`.**\n",
    "\n",
    "We provide you with the base case function `score(state)` (or `value(state)` in lecture). Given a game state, this function runs a terminal check and if the game state is NOT terminal, it calls the minimizer or maximier node (as determined by `state.player`)."
   ]
  },
  {
   "cell_type": "markdown",
   "metadata": {},
   "source": [
    "<div class=\"alert alert-info\">\n",
    "Implement functions `maximize_score(state)` and `minimize_score(state)` below.\n",
    "</div>"
   ]
  },
  {
   "cell_type": "code",
   "execution_count": 23,
   "metadata": {
    "nbgrader": {
     "grade": false,
     "grade_id": "minimax_answer",
     "locked": false,
     "schema_version": 3,
     "solution": true
    },
    "tags": []
   },
   "outputs": [],
   "source": [
    "# Write your code for MiniMax search here.\n",
    "class Error(Exception):\n",
    "    pass\n",
    "\n",
    "# This is the base case function.\n",
    "def score(state):\n",
    "    # Initialize states_explored as 1 (this state) and optimal_play (this state).\n",
    "    states_explored = 1\n",
    "    optimal_play = [state]\n",
    "    \n",
    "    if state.terminal_check():\n",
    "        terminal_score = state.score()\n",
    "        return (terminal_score, states_explored, optimal_play)\n",
    "    elif state.player == 1:\n",
    "        return maximize_score(state)\n",
    "    elif state.player == 2:\n",
    "        return minimize_score(state)\n",
    "    \n",
    "def maximize_score(state):\n",
    "    \"\"\"Return (max_score, states_explored, optimal_play) for player 1.\"\"\"\n",
    "    if state.terminal_check():\n",
    "        return state.score(), 1, [state]\n",
    "\n",
    "    if state.player != 1:\n",
    "        raise ValueError(\"maximize_score called on non-player-1 state\")\n",
    "\n",
    "    max_score = -float('inf')\n",
    "    total_states_explored = 1  # count current state\n",
    "    best_play = [state]\n",
    "\n",
    "    # Loop through all successors\n",
    "    for successor in state.successors():\n",
    "        succ_score, succ_explored, succ_play = minimize_score(successor)\n",
    "        total_states_explored += succ_explored\n",
    "\n",
    "        # Choose the highest scoring successor\n",
    "        if succ_score > max_score:\n",
    "            max_score = succ_score\n",
    "            best_play = [state] + succ_play  # prepend current state\n",
    "\n",
    "    return max_score, total_states_explored, best_play\n",
    "\n",
    "\n",
    "def minimize_score(state):\n",
    "    \"\"\"Return (min_score, states_explored, optimal_play) for player 2.\"\"\"\n",
    "    if state.terminal_check():\n",
    "        return state.score(), 1, [state]\n",
    "\n",
    "    if state.player != 2:\n",
    "        raise ValueError(\"minimize_score called on non-player-2 state\")\n",
    "\n",
    "    min_score = float('inf')\n",
    "    total_states_explored = 1\n",
    "    best_play = [state]\n",
    "\n",
    "    for successor in state.successors():\n",
    "        succ_score, succ_explored, succ_play = maximize_score(successor)\n",
    "        total_states_explored += succ_explored\n",
    "\n",
    "        # Choose the lowest scoring successor\n",
    "        if succ_score < min_score:\n",
    "            min_score = succ_score\n",
    "            best_play = [state] + succ_play\n",
    "\n",
    "    return min_score, total_states_explored, best_play"
   ]
  },
  {
   "cell_type": "code",
   "execution_count": 24,
   "metadata": {
    "nbgrader": {
     "grade": true,
     "grade_id": "minimax",
     "locked": true,
     "points": 50,
     "schema_version": 3,
     "solution": false,
     "task": false
    },
    "tags": []
   },
   "outputs": [
    {
     "data": {
      "text/html": [
       "<div class=\"alert alert-success\">\n",
       "        <strong>Test passed!!</strong>\n",
       "        </div>"
      ]
     },
     "metadata": {},
     "output_type": "display_data"
    },
    {
     "name": "stderr",
     "output_type": "stream",
     "text": [
      ".\n",
      "----------------------------------------------------------------------\n",
      "Ran 1 test in 0.020s\n",
      "\n",
      "OK\n"
     ]
    }
   ],
   "source": [
    "\"\"\"Test your MiniMax search code here.\"\"\"\n",
    "Grader.run_single_test_inline(TestPSet5, \"test_1_minimax\", locals())"
   ]
  },
  {
   "cell_type": "markdown",
   "metadata": {},
   "source": [
    "### 1B. <a name=\"part2\"/> </a>Implement Alpha-Beta Pruning (25 points)\n",
    "\n",
    "Now you will implement alpha-beta pruning in your MiniMax functions and demonstrate that the same result is achieved with fewer game states needing to be searched. \n",
    "\n",
    "You will define the following functions:\n",
    "\n",
    "```python\n",
    "def maximize_score_alpha_beta(state,alpha,beta)\n",
    "def minimize_score_alpha_beta(state,alpha,beta)\n",
    "```\n",
    "\n",
    "These functions will look very similar to your implementations of `maximize_score` and `minimize_score` (in fact, a good place to start is by copying and pasting your code from above), except they will take the alpha and beta parameters defined by alpha-beta pruning. The output format should be the same as the corresponding functions without pruning. Once again, we provide you with the base case function `score_alpha_beta`."
   ]
  },
  {
   "cell_type": "markdown",
   "metadata": {},
   "source": [
    "<div class=\"alert alert-info\">\n",
    "Implement functions `maximize_score_alpha_beta(state,alpha,beta)` and `minimize_score_alpha_beta(state,alpha,beta)` below.\n",
    "</div>"
   ]
  },
  {
   "cell_type": "code",
   "execution_count": 26,
   "metadata": {
    "nbgrader": {
     "grade": false,
     "grade_id": "alpha_beta_answer",
     "locked": false,
     "schema_version": 3,
     "solution": true
    },
    "tags": []
   },
   "outputs": [],
   "source": [
    "# Write your code for MiniMax search with alpha-beta pruning here.\n",
    "\n",
    "# This is the base case function.\n",
    "def score_alpha_beta(state,alpha,beta):\n",
    "    # Initialize states_explored as 1 (this state) and optimal_play (this state).\n",
    "    states_explored = 1\n",
    "    optimal_play = [state]\n",
    "    \n",
    "    if state.terminal_check():\n",
    "        terminal_score = state.score()\n",
    "        return (terminal_score, states_explored, optimal_play)\n",
    "    elif state.player == 1:\n",
    "        return maximize_score_alpha_beta(state,alpha,beta)\n",
    "    elif state.player == 2:\n",
    "        return minimize_score_alpha_beta(state,alpha,beta)\n",
    "\n",
    "def maximize_score_alpha_beta(state, alpha, beta):\n",
    "    \"\"\"Maximizer node (Player 1) with alpha-beta pruning.\"\"\"\n",
    "    if state.player != 1:\n",
    "        raise Error\n",
    "\n",
    "    # Base case: terminal\n",
    "    if state.terminal_check():\n",
    "        return state.score(), 1, [state]\n",
    "\n",
    "    max_score = -float('inf')\n",
    "    total_states_explored = 1\n",
    "    best_play = [state]\n",
    "\n",
    "    # Explore successors\n",
    "    for successor in state.successors():\n",
    "        succ_score, succ_explored, succ_play = minimize_score_alpha_beta(successor, alpha, beta)\n",
    "        total_states_explored += succ_explored\n",
    "\n",
    "        # Update best score and path\n",
    "        if succ_score > max_score:\n",
    "            max_score = succ_score\n",
    "            best_play = [state] + succ_play\n",
    "\n",
    "        # Update alpha (best score so far for maximizer)\n",
    "        alpha = max(alpha, max_score)\n",
    "\n",
    "        # Alpha-Beta pruning: if alpha >= beta, stop searching\n",
    "        if alpha >= beta:\n",
    "            break\n",
    "\n",
    "    return max_score, total_states_explored, best_play\n",
    "\n",
    "\n",
    "def minimize_score_alpha_beta(state, alpha, beta):\n",
    "    \"\"\"Minimizer node (Player 2) with alpha-beta pruning.\"\"\"\n",
    "    if state.player != 2:\n",
    "        raise Error\n",
    "\n",
    "    # Base case: terminal\n",
    "    if state.terminal_check():\n",
    "        return state.score(), 1, [state]\n",
    "\n",
    "    min_score = float('inf')\n",
    "    total_states_explored = 1\n",
    "    best_play = [state]\n",
    "\n",
    "    for successor in state.successors():\n",
    "        succ_score, succ_explored, succ_play = maximize_score_alpha_beta(successor, alpha, beta)\n",
    "        total_states_explored += succ_explored\n",
    "\n",
    "        if succ_score < min_score:\n",
    "            min_score = succ_score\n",
    "            best_play = [state] + succ_play\n",
    "\n",
    "        # Update beta (best score so far for minimizer)\n",
    "        beta = min(beta, min_score)\n",
    "\n",
    "        # Alpha-Beta pruning\n",
    "        if alpha >= beta:\n",
    "            break\n",
    "\n",
    "    return min_score, total_states_explored, best_play\n"
   ]
  },
  {
   "cell_type": "code",
   "execution_count": 27,
   "metadata": {
    "nbgrader": {
     "grade": true,
     "grade_id": "alpha_beta",
     "locked": true,
     "points": 30,
     "schema_version": 3,
     "solution": false,
     "task": false
    },
    "tags": []
   },
   "outputs": [
    {
     "data": {
      "text/html": [
       "<div class=\"alert alert-success\">\n",
       "        <strong>Test passed!!</strong>\n",
       "        </div>"
      ]
     },
     "metadata": {},
     "output_type": "display_data"
    },
    {
     "name": "stderr",
     "output_type": "stream",
     "text": [
      ".\n",
      "----------------------------------------------------------------------\n",
      "Ran 1 test in 0.004s\n",
      "\n",
      "OK\n"
     ]
    }
   ],
   "source": [
    "\"\"\"Test your alpha beta search code here.\"\"\"\n",
    "Grader.run_single_test_inline(TestPSet5, \"test_2_alpha_beta\", locals())"
   ]
  },
  {
   "cell_type": "markdown",
   "metadata": {},
   "source": [
    "### Simulate a Full Game w/ Optimal Agent\n",
    "\n",
    "You're now prepared to run a full game of tic-tac-toe from an initially blank state. If it was possible to always guarantee a win against a perfect opponent, you would see x's win the game. Unfortunately, this isn't possible! Let's see this by running your code both with and without alpha-beta pruning."
   ]
  },
  {
   "cell_type": "code",
   "execution_count": 28,
   "metadata": {},
   "outputs": [
    {
     "name": "stdout",
     "output_type": "stream",
     "text": [
      "Max score = 0\n",
      "States explored = 549946\n",
      "  |   |  \n",
      "--+---+--\n",
      "  |   |  \n",
      "--+---+--\n",
      "  |   |  \n",
      "\n",
      "x |   |  \n",
      "--+---+--\n",
      "  |   |  \n",
      "--+---+--\n",
      "  |   |  \n",
      "\n",
      "x |   |  \n",
      "--+---+--\n",
      "  | o |  \n",
      "--+---+--\n",
      "  |   |  \n",
      "\n",
      "x | x |  \n",
      "--+---+--\n",
      "  | o |  \n",
      "--+---+--\n",
      "  |   |  \n",
      "\n",
      "x | x | o\n",
      "--+---+--\n",
      "  | o |  \n",
      "--+---+--\n",
      "  |   |  \n",
      "\n",
      "x | x | o\n",
      "--+---+--\n",
      "  | o |  \n",
      "--+---+--\n",
      "x |   |  \n",
      "\n",
      "x | x | o\n",
      "--+---+--\n",
      "o | o |  \n",
      "--+---+--\n",
      "x |   |  \n",
      "\n",
      "x | x | o\n",
      "--+---+--\n",
      "o | o | x\n",
      "--+---+--\n",
      "x |   |  \n",
      "\n",
      "x | x | o\n",
      "--+---+--\n",
      "o | o | x\n",
      "--+---+--\n",
      "x | o |  \n",
      "\n",
      "x | x | o\n",
      "--+---+--\n",
      "o | o | x\n",
      "--+---+--\n",
      "x | o | x\n",
      "\n"
     ]
    }
   ],
   "source": [
    "# Run this cell to see an optimum game of tic-tac-toe. Note the performance WITHOUT alpha-beta pruning.\n",
    "# This may take a few seconds. \n",
    "blank_game = game_state(tic_tac_toe_board([' ',' ',' ',' ',' ',' ',' ',' ',' ']))\n",
    "(max_score, states_explored, optimal_play) = score(blank_game)\n",
    "print('Max score = {}'.format(max_score))\n",
    "print('States explored = {}'.format(states_explored))\n",
    "for s in optimal_play:\n",
    "    print(s)"
   ]
  },
  {
   "cell_type": "code",
   "execution_count": 29,
   "metadata": {},
   "outputs": [
    {
     "name": "stdout",
     "output_type": "stream",
     "text": [
      "Max score = 0\n",
      "States explored = 18297\n",
      "  |   |  \n",
      "--+---+--\n",
      "  |   |  \n",
      "--+---+--\n",
      "  |   |  \n",
      "\n",
      "x |   |  \n",
      "--+---+--\n",
      "  |   |  \n",
      "--+---+--\n",
      "  |   |  \n",
      "\n",
      "x |   |  \n",
      "--+---+--\n",
      "  | o |  \n",
      "--+---+--\n",
      "  |   |  \n",
      "\n",
      "x | x |  \n",
      "--+---+--\n",
      "  | o |  \n",
      "--+---+--\n",
      "  |   |  \n",
      "\n",
      "x | x | o\n",
      "--+---+--\n",
      "  | o |  \n",
      "--+---+--\n",
      "  |   |  \n",
      "\n",
      "x | x | o\n",
      "--+---+--\n",
      "  | o |  \n",
      "--+---+--\n",
      "x |   |  \n",
      "\n",
      "x | x | o\n",
      "--+---+--\n",
      "o | o |  \n",
      "--+---+--\n",
      "x |   |  \n",
      "\n",
      "x | x | o\n",
      "--+---+--\n",
      "o | o | x\n",
      "--+---+--\n",
      "x |   |  \n",
      "\n",
      "x | x | o\n",
      "--+---+--\n",
      "o | o | x\n",
      "--+---+--\n",
      "x | o |  \n",
      "\n",
      "x | x | o\n",
      "--+---+--\n",
      "o | o | x\n",
      "--+---+--\n",
      "x | o | x\n",
      "\n"
     ]
    }
   ],
   "source": [
    "# Run this cell to see an optimum game of tic-tac-toe. Note the performance gain WITH alpha-beta pruning.  \n",
    "blank_game = game_state(tic_tac_toe_board([' ',' ',' ',' ',' ',' ',' ',' ',' ']))\n",
    "(max_score, states_explored, optimal_play) = score_alpha_beta(blank_game,-2,2)\n",
    "print('Max score = {}'.format(max_score))\n",
    "print('States explored = {}'.format(states_explored))\n",
    "for s in optimal_play:\n",
    "    print(s)"
   ]
  },
  {
   "cell_type": "markdown",
   "metadata": {},
   "source": [
    "### 1C. <a name=\"part3\"/> </a>Implement Expectimax Search (25 points)\n",
    "\n",
    "MiniMax and alpha-beta are great, but they both assume that you are playing against an adversary who makes optimal decisions. As anyone who has ever won tic-tac-toe can tell you, this is not always the case. In this question you will implement Expectimax Search, which is useful for modeling probabilistic behavior of agents who may make suboptimal choices. For this version of the problem, you will play against a random adversary.\n",
    "\n",
    "You will define the following functions:\n",
    "\n",
    "```python\n",
    "def maximize_score_expectimax(state)\n",
    "def expected_score_expectimax(state)\n",
    "```\n",
    "\n",
    "Once again, `maximize_score_expectimax` will look very similar to your implementation of `maximize_score`. However, `expected_score_expectimax`'s `optimal_play` should choose amongst successors at random. Assume equal probability of choosing amongst successors. The output format should be the same as the corresponding MiniMax functions."
   ]
  },
  {
   "cell_type": "markdown",
   "metadata": {},
   "source": [
    "<div class=\"alert alert-info\">\n",
    "Implement functions `maximize_score_expectimax(state)` and `expected_score_expectimax(state)` below.\n",
    "</div>"
   ]
  },
  {
   "cell_type": "code",
   "execution_count": 31,
   "metadata": {},
   "outputs": [],
   "source": [
    "# Write your code for expectimax search here.\n",
    "\n",
    "# This is the base case function.\n",
    "def score_expectimax(state):\n",
    "    # Initialize states_explored as 1 (this state) and optimal_play (this state).\n",
    "    states_explored = 1\n",
    "    optimal_play = [state]\n",
    "    \n",
    "    if state.terminal_check():\n",
    "        terminal_score = state.score()\n",
    "        return (terminal_score, states_explored, optimal_play)\n",
    "    elif state.player == 1:\n",
    "        return maximize_score_expectimax(state)\n",
    "    elif state.player == 2:\n",
    "        return expected_score_expectimax(state)\n",
    "\n",
    "def maximize_score_expectimax(state):\n",
    "    \"\"\"Maximizing player (Player 1).\"\"\"\n",
    "    if state.player != 1:\n",
    "        raise Error\n",
    "\n",
    "    # Base case: terminal state\n",
    "    if state.terminal_check():\n",
    "        return state.score(), 1, [state]\n",
    "\n",
    "    max_score = -float('inf')\n",
    "    total_states_explored = 1\n",
    "    best_play = [state]\n",
    "\n",
    "    for successor in state.successors():\n",
    "        succ_score, succ_explored, succ_play = expected_score_expectimax(successor)\n",
    "        total_states_explored += succ_explored\n",
    "\n",
    "        if succ_score > max_score:\n",
    "            max_score = succ_score\n",
    "            best_play = [state] + succ_play\n",
    "\n",
    "    return max_score, total_states_explored, best_play\n",
    "\n",
    "\n",
    "def expected_score_expectimax(state):\n",
    "    \"\"\"Chance node (Player 2), which picks randomly (equal probability).\"\"\"\n",
    "    if state.player != 2:\n",
    "        raise Error\n",
    "\n",
    "    # Base case: terminal state\n",
    "    if state.terminal_check():\n",
    "        return state.score(), 1, [state]\n",
    "\n",
    "    successors = state.successors()\n",
    "    if not successors:\n",
    "        # Defensive: no successors means terminal\n",
    "        return state.score(), 1, [state]\n",
    "\n",
    "    total_states_explored = 1\n",
    "    total_score = 0\n",
    "    successor_plays = []\n",
    "    successor_explored_counts = []\n",
    "\n",
    "    for successor in successors:\n",
    "        succ_score, succ_explored, succ_play = maximize_score_expectimax(successor)\n",
    "        total_states_explored += succ_explored\n",
    "        total_score += succ_score\n",
    "        successor_plays.append(succ_play)\n",
    "        successor_explored_counts.append(succ_explored)\n",
    "\n",
    "    # Expected value: average over all successors\n",
    "    expected_score = total_score / len(successors)\n",
    "\n",
    "    # Choose one play path arbitrarily (first one) to represent outcome\n",
    "    optimal_play = [state] + successor_plays[0]\n",
    "\n",
    "    return expected_score, total_states_explored, optimal_play\n"
   ]
  },
  {
   "cell_type": "code",
   "execution_count": 32,
   "metadata": {},
   "outputs": [
    {
     "data": {
      "text/html": [
       "<div class=\"alert alert-success\">\n",
       "        <strong>Test passed!!</strong>\n",
       "        </div>"
      ]
     },
     "metadata": {},
     "output_type": "display_data"
    },
    {
     "name": "stderr",
     "output_type": "stream",
     "text": [
      ".\n",
      "----------------------------------------------------------------------\n",
      "Ran 1 test in 0.005s\n",
      "\n",
      "OK\n"
     ]
    }
   ],
   "source": [
    "\"\"\"Test your expectimax search code here.\"\"\"\n",
    "Grader.run_single_test_inline(TestPSet5, \"test_3_expectimax\", locals())"
   ]
  },
  {
   "cell_type": "markdown",
   "metadata": {},
   "source": [
    "### Simulate a Full Game w/ Suboptimal Agent\n",
    "\n",
    "You're now prepared to run a full game of tic-tac-toe from an initially blank state, this time with an agent that isn't necessarily optimal."
   ]
  },
  {
   "cell_type": "code",
   "execution_count": 33,
   "metadata": {},
   "outputs": [
    {
     "name": "stdout",
     "output_type": "stream",
     "text": [
      "Max score = 0.9947916666666667\n",
      "States explored = 549946\n",
      "  |   |  \n",
      "--+---+--\n",
      "  |   |  \n",
      "--+---+--\n",
      "  |   |  \n",
      "\n",
      "x |   |  \n",
      "--+---+--\n",
      "  |   |  \n",
      "--+---+--\n",
      "  |   |  \n",
      "\n",
      "x | o |  \n",
      "--+---+--\n",
      "  |   |  \n",
      "--+---+--\n",
      "  |   |  \n",
      "\n",
      "x | o |  \n",
      "--+---+--\n",
      "x |   |  \n",
      "--+---+--\n",
      "  |   |  \n",
      "\n",
      "x | o | o\n",
      "--+---+--\n",
      "x |   |  \n",
      "--+---+--\n",
      "  |   |  \n",
      "\n",
      "x | o | o\n",
      "--+---+--\n",
      "x | x |  \n",
      "--+---+--\n",
      "  |   |  \n",
      "\n",
      "x | o | o\n",
      "--+---+--\n",
      "x | x | o\n",
      "--+---+--\n",
      "  |   |  \n",
      "\n",
      "x | o | o\n",
      "--+---+--\n",
      "x | x | o\n",
      "--+---+--\n",
      "x |   |  \n",
      "\n"
     ]
    }
   ],
   "source": [
    "# Run this cell to see a suboptimal game of tic-tac-toe. Run it multiple times. Notice how we always win. \n",
    "blank_game = game_state(tic_tac_toe_board([' ',' ',' ',' ',' ',' ',' ',' ',' ']))\n",
    "(max_score, states_explored, optimal_play) = score_expectimax(blank_game)\n",
    "print('Max score = {}'.format(max_score))\n",
    "print('States explored = {}'.format(states_explored))\n",
    "for s in optimal_play:\n",
    "    print(s)"
   ]
  },
  {
   "cell_type": "markdown",
   "metadata": {},
   "source": [
    "## <a name=\"part4\"></a> Time Spent on Pset (5 points)\n",
    "\n",
    "Please use [this form](https://forms.gle/ev8waEiJBN97HxV68) to tell us how long you spent on this pset. After you submit the form, the form will give you a confirmation word. Please enter that confirmation word below to get an extra 5 points. "
   ]
  },
  {
   "cell_type": "code",
   "execution_count": 35,
   "metadata": {},
   "outputs": [],
   "source": [
    "form_confirmation_word = \"Eomuktang\""
   ]
  },
  {
   "cell_type": "code",
   "execution_count": 36,
   "metadata": {},
   "outputs": [
    {
     "data": {
      "text/html": [
       "<div class=\"alert alert-success\">\n",
       "        <strong>Test passed!!</strong>\n",
       "        </div>"
      ]
     },
     "metadata": {},
     "output_type": "display_data"
    },
    {
     "data": {
      "text/html": [
       "<div class=\"alert alert-success\">\n",
       "        <strong>Test passed!!</strong>\n",
       "        </div>"
      ]
     },
     "metadata": {},
     "output_type": "display_data"
    },
    {
     "data": {
      "text/html": [
       "<div class=\"alert alert-success\">\n",
       "        <strong>Test passed!!</strong>\n",
       "        </div>"
      ]
     },
     "metadata": {},
     "output_type": "display_data"
    },
    {
     "name": "stdout",
     "output_type": "stream",
     "text": [
      "Total score is 105/105.\n",
      "\n",
      "Score for test_1_minimax (principles_of_autonomy.notebook_tests.pset_5.TestPSet5) is 50/50.\n",
      "\n",
      "Score for test_2_alpha_beta (principles_of_autonomy.notebook_tests.pset_5.TestPSet5) is 25/25.\n",
      "\n",
      "Score for test_3_expectimax (principles_of_autonomy.notebook_tests.pset_5.TestPSet5) is 25/25.\n",
      "\n",
      "Score for test_4_form_word (principles_of_autonomy.notebook_tests.pset_5.TestPSet5) is 5/5.\n"
     ]
    }
   ],
   "source": [
    "# Run all tests\n",
    "Grader.grade_output([TestPSet5], [locals()], \"results.json\")\n",
    "Grader.print_test_results(\"results.json\")"
   ]
  },
  {
   "cell_type": "code",
   "execution_count": 37,
   "metadata": {},
   "outputs": [
    {
     "name": "stdout",
     "output_type": "stream",
     "text": [
      "Open-ended responses written to ProblemSet05_AdversarialGames_release_responses_only.ipynb\n",
      "Compressed files in folder to ../ps5/ps5.zip (submit this to Gradescope)\n"
     ]
    },
    {
     "name": "stderr",
     "output_type": "stream",
     "text": [
      "/usr/local/lib/python3.10/dist-packages/nbformat/__init__.py:132: MissingIDFieldWarning: Cell is missing an id field, this will become a hard error in future nbformat versions. You may want to use `normalize()` on your notebooks before validations (available since nbformat 5.1.4). Previous versions of nbformat are fixing this issue transparently, and will stop doing so in the future.\n",
      "  validate(nb)\n"
     ]
    }
   ],
   "source": [
    "# Make sure you save the notebook before running this cell so that the most updated version is zipped!\n",
    "Grader.prepare_submission(\"ProblemSet05_AdversarialGames_release\")"
   ]
  },
  {
   "cell_type": "code",
   "execution_count": null,
   "metadata": {},
   "outputs": [],
   "source": []
  }
 ],
 "metadata": {
  "@webio": {
   "lastCommId": null,
   "lastKernelId": null
  },
  "celltoolbar": "Create Assignment",
  "kernelspec": {
   "display_name": "Python 3 (ipykernel)",
   "language": "python",
   "name": "python3"
  },
  "language_info": {
   "codemirror_mode": {
    "name": "ipython",
    "version": 3
   },
   "file_extension": ".py",
   "mimetype": "text/x-python",
   "name": "python",
   "nbconvert_exporter": "python",
   "pygments_lexer": "ipython3",
   "version": "3.10.6"
  }
 },
 "nbformat": 4,
 "nbformat_minor": 4
}
