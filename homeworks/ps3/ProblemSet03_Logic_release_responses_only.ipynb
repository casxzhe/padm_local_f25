{
 "cells": [
  {
   "cell_type": "markdown",
   "id": "4f2faab6",
   "metadata": {},
   "source": [
    "## <a name=\"contributors\"></a> 0. Credit for Contributors\n",
    "\n",
    "List the various students, lecture notes, or online resouces that helped you complete this problem set:\n",
    "\n",
    "Ex: I worked with Bob on the cat activity planning problem.\n",
    "\n",
    "<div class=\"alert alert-info\">\n",
    "Write your answer in the cell below this one.\n",
    "</div>"
   ]
  },
  {
   "cell_type": "markdown",
   "id": "a9eb867c",
   "metadata": {},
   "source": [
    "None"
   ]
  }
 ],
 "metadata": {},
 "nbformat": 4,
 "nbformat_minor": 5
}
